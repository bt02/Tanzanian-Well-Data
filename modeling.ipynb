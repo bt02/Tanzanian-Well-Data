{
 "cells": [
  {
   "cell_type": "markdown",
   "metadata": {},
   "source": [
    "# Import data"
   ]
  },
  {
   "cell_type": "code",
   "execution_count": 1,
   "metadata": {
    "ExecuteTime": {
     "end_time": "2020-08-21T20:43:34.829653Z",
     "start_time": "2020-08-21T20:43:33.259865Z"
    }
   },
   "outputs": [],
   "source": [
    "import pandas as pd\n",
    "pd.set_option('display.max_rows', 500)\n",
    "pd.set_option('display.max_columns', 500)\n",
    "pd.set_option('display.width', 1000)\n",
    "\n",
    "import warnings\n",
    "warnings.filterwarnings(\"ignore\")"
   ]
  },
  {
   "cell_type": "code",
   "execution_count": 2,
   "metadata": {
    "ExecuteTime": {
     "end_time": "2020-08-21T20:43:35.644406Z",
     "start_time": "2020-08-21T20:43:34.859393Z"
    }
   },
   "outputs": [],
   "source": [
    "df = pd.read_csv('csv_files/training_data_clean')"
   ]
  },
  {
   "cell_type": "code",
   "execution_count": 3,
   "metadata": {
    "ExecuteTime": {
     "end_time": "2020-08-21T20:43:35.849088Z",
     "start_time": "2020-08-21T20:43:35.804088Z"
    }
   },
   "outputs": [],
   "source": [
    "df.drop('Unnamed: 0', axis=1, inplace=True)"
   ]
  },
  {
   "cell_type": "code",
   "execution_count": 4,
   "metadata": {
    "ExecuteTime": {
     "end_time": "2020-08-21T20:43:36.074333Z",
     "start_time": "2020-08-21T20:43:35.988420Z"
    }
   },
   "outputs": [
    {
     "data": {
      "text/html": [
       "<div>\n",
       "<style scoped>\n",
       "    .dataframe tbody tr th:only-of-type {\n",
       "        vertical-align: middle;\n",
       "    }\n",
       "\n",
       "    .dataframe tbody tr th {\n",
       "        vertical-align: top;\n",
       "    }\n",
       "\n",
       "    .dataframe thead th {\n",
       "        text-align: right;\n",
       "    }\n",
       "</style>\n",
       "<table border=\"1\" class=\"dataframe\">\n",
       "  <thead>\n",
       "    <tr style=\"text-align: right;\">\n",
       "      <th></th>\n",
       "      <th>amount_tsh</th>\n",
       "      <th>funder</th>\n",
       "      <th>gps_height</th>\n",
       "      <th>installer</th>\n",
       "      <th>longitude</th>\n",
       "      <th>latitude</th>\n",
       "      <th>wpt_name</th>\n",
       "      <th>num_private</th>\n",
       "      <th>basin</th>\n",
       "      <th>subvillage</th>\n",
       "      <th>region</th>\n",
       "      <th>region_code</th>\n",
       "      <th>district_code</th>\n",
       "      <th>lga</th>\n",
       "      <th>ward</th>\n",
       "      <th>population</th>\n",
       "      <th>public_meeting</th>\n",
       "      <th>recorded_by</th>\n",
       "      <th>scheme_management</th>\n",
       "      <th>permit</th>\n",
       "      <th>construction_year</th>\n",
       "      <th>extraction_type</th>\n",
       "      <th>extraction_type_group</th>\n",
       "      <th>extraction_type_class</th>\n",
       "      <th>management</th>\n",
       "      <th>management_group</th>\n",
       "      <th>payment</th>\n",
       "      <th>payment_type</th>\n",
       "      <th>water_quality</th>\n",
       "      <th>quality_group</th>\n",
       "      <th>quantity</th>\n",
       "      <th>quantity_group</th>\n",
       "      <th>source</th>\n",
       "      <th>source_type</th>\n",
       "      <th>source_class</th>\n",
       "      <th>waterpoint_type</th>\n",
       "      <th>waterpoint_type_group</th>\n",
       "      <th>status_group</th>\n",
       "    </tr>\n",
       "  </thead>\n",
       "  <tbody>\n",
       "    <tr>\n",
       "      <td>0</td>\n",
       "      <td>6000.0</td>\n",
       "      <td>Roman</td>\n",
       "      <td>1390</td>\n",
       "      <td>Roman</td>\n",
       "      <td>34.938093</td>\n",
       "      <td>-9.856322</td>\n",
       "      <td>none</td>\n",
       "      <td>0</td>\n",
       "      <td>Lake Nyasa</td>\n",
       "      <td>Mnyusi B</td>\n",
       "      <td>Iringa</td>\n",
       "      <td>11</td>\n",
       "      <td>5</td>\n",
       "      <td>Ludewa</td>\n",
       "      <td>Mundindi</td>\n",
       "      <td>109</td>\n",
       "      <td>True</td>\n",
       "      <td>GeoData Consultants Ltd</td>\n",
       "      <td>VWC</td>\n",
       "      <td>False</td>\n",
       "      <td>1999</td>\n",
       "      <td>gravity</td>\n",
       "      <td>gravity</td>\n",
       "      <td>gravity</td>\n",
       "      <td>vwc</td>\n",
       "      <td>user-group</td>\n",
       "      <td>pay annually</td>\n",
       "      <td>annually</td>\n",
       "      <td>soft</td>\n",
       "      <td>good</td>\n",
       "      <td>enough</td>\n",
       "      <td>enough</td>\n",
       "      <td>spring</td>\n",
       "      <td>spring</td>\n",
       "      <td>groundwater</td>\n",
       "      <td>communal standpipe</td>\n",
       "      <td>communal standpipe</td>\n",
       "      <td>functional</td>\n",
       "    </tr>\n",
       "    <tr>\n",
       "      <td>1</td>\n",
       "      <td>0.0</td>\n",
       "      <td>Grumeti</td>\n",
       "      <td>1399</td>\n",
       "      <td>GRUMETI</td>\n",
       "      <td>34.698766</td>\n",
       "      <td>-2.147466</td>\n",
       "      <td>Zahanati</td>\n",
       "      <td>0</td>\n",
       "      <td>Lake Victoria</td>\n",
       "      <td>Nyamara</td>\n",
       "      <td>Mara</td>\n",
       "      <td>20</td>\n",
       "      <td>2</td>\n",
       "      <td>Serengeti</td>\n",
       "      <td>Natta</td>\n",
       "      <td>280</td>\n",
       "      <td>True</td>\n",
       "      <td>GeoData Consultants Ltd</td>\n",
       "      <td>Other</td>\n",
       "      <td>True</td>\n",
       "      <td>2010</td>\n",
       "      <td>gravity</td>\n",
       "      <td>gravity</td>\n",
       "      <td>gravity</td>\n",
       "      <td>wug</td>\n",
       "      <td>user-group</td>\n",
       "      <td>never pay</td>\n",
       "      <td>never pay</td>\n",
       "      <td>soft</td>\n",
       "      <td>good</td>\n",
       "      <td>insufficient</td>\n",
       "      <td>insufficient</td>\n",
       "      <td>rainwater harvesting</td>\n",
       "      <td>rainwater harvesting</td>\n",
       "      <td>surface</td>\n",
       "      <td>communal standpipe</td>\n",
       "      <td>communal standpipe</td>\n",
       "      <td>functional</td>\n",
       "    </tr>\n",
       "    <tr>\n",
       "      <td>2</td>\n",
       "      <td>25.0</td>\n",
       "      <td>Lottery Club</td>\n",
       "      <td>686</td>\n",
       "      <td>World vision</td>\n",
       "      <td>37.460664</td>\n",
       "      <td>-3.821329</td>\n",
       "      <td>Kwa Mahundi</td>\n",
       "      <td>0</td>\n",
       "      <td>Pangani</td>\n",
       "      <td>Majengo</td>\n",
       "      <td>Manyara</td>\n",
       "      <td>21</td>\n",
       "      <td>4</td>\n",
       "      <td>Simanjiro</td>\n",
       "      <td>Ngorika</td>\n",
       "      <td>250</td>\n",
       "      <td>True</td>\n",
       "      <td>GeoData Consultants Ltd</td>\n",
       "      <td>VWC</td>\n",
       "      <td>True</td>\n",
       "      <td>2009</td>\n",
       "      <td>gravity</td>\n",
       "      <td>gravity</td>\n",
       "      <td>gravity</td>\n",
       "      <td>vwc</td>\n",
       "      <td>user-group</td>\n",
       "      <td>pay per bucket</td>\n",
       "      <td>per bucket</td>\n",
       "      <td>soft</td>\n",
       "      <td>good</td>\n",
       "      <td>enough</td>\n",
       "      <td>enough</td>\n",
       "      <td>dam</td>\n",
       "      <td>dam</td>\n",
       "      <td>surface</td>\n",
       "      <td>communal standpipe multiple</td>\n",
       "      <td>communal standpipe</td>\n",
       "      <td>functional</td>\n",
       "    </tr>\n",
       "    <tr>\n",
       "      <td>3</td>\n",
       "      <td>0.0</td>\n",
       "      <td>Unicef</td>\n",
       "      <td>263</td>\n",
       "      <td>UNICEF</td>\n",
       "      <td>38.486161</td>\n",
       "      <td>-11.155298</td>\n",
       "      <td>Zahanati Ya Nanyumbu</td>\n",
       "      <td>0</td>\n",
       "      <td>Ruvuma / Southern Coast</td>\n",
       "      <td>Mahakamani</td>\n",
       "      <td>Mtwara</td>\n",
       "      <td>90</td>\n",
       "      <td>63</td>\n",
       "      <td>Nanyumbu</td>\n",
       "      <td>Nanyumbu</td>\n",
       "      <td>58</td>\n",
       "      <td>True</td>\n",
       "      <td>GeoData Consultants Ltd</td>\n",
       "      <td>VWC</td>\n",
       "      <td>True</td>\n",
       "      <td>1986</td>\n",
       "      <td>submersible</td>\n",
       "      <td>submersible</td>\n",
       "      <td>submersible</td>\n",
       "      <td>vwc</td>\n",
       "      <td>user-group</td>\n",
       "      <td>never pay</td>\n",
       "      <td>never pay</td>\n",
       "      <td>soft</td>\n",
       "      <td>good</td>\n",
       "      <td>dry</td>\n",
       "      <td>dry</td>\n",
       "      <td>machine dbh</td>\n",
       "      <td>borehole</td>\n",
       "      <td>groundwater</td>\n",
       "      <td>communal standpipe multiple</td>\n",
       "      <td>communal standpipe</td>\n",
       "      <td>non functional</td>\n",
       "    </tr>\n",
       "    <tr>\n",
       "      <td>4</td>\n",
       "      <td>0.0</td>\n",
       "      <td>Action In A</td>\n",
       "      <td>0</td>\n",
       "      <td>Artisan</td>\n",
       "      <td>31.130847</td>\n",
       "      <td>-1.825359</td>\n",
       "      <td>Shuleni</td>\n",
       "      <td>0</td>\n",
       "      <td>Lake Victoria</td>\n",
       "      <td>Kyanyamisa</td>\n",
       "      <td>Kagera</td>\n",
       "      <td>18</td>\n",
       "      <td>1</td>\n",
       "      <td>Karagwe</td>\n",
       "      <td>Nyakasimbi</td>\n",
       "      <td>0</td>\n",
       "      <td>True</td>\n",
       "      <td>GeoData Consultants Ltd</td>\n",
       "      <td>VWC</td>\n",
       "      <td>True</td>\n",
       "      <td>0</td>\n",
       "      <td>gravity</td>\n",
       "      <td>gravity</td>\n",
       "      <td>gravity</td>\n",
       "      <td>other</td>\n",
       "      <td>other</td>\n",
       "      <td>never pay</td>\n",
       "      <td>never pay</td>\n",
       "      <td>soft</td>\n",
       "      <td>good</td>\n",
       "      <td>seasonal</td>\n",
       "      <td>seasonal</td>\n",
       "      <td>rainwater harvesting</td>\n",
       "      <td>rainwater harvesting</td>\n",
       "      <td>surface</td>\n",
       "      <td>communal standpipe</td>\n",
       "      <td>communal standpipe</td>\n",
       "      <td>functional</td>\n",
       "    </tr>\n",
       "  </tbody>\n",
       "</table>\n",
       "</div>"
      ],
      "text/plain": [
       "   amount_tsh        funder  gps_height     installer  longitude   latitude              wpt_name  num_private                    basin  subvillage   region  region_code  district_code        lga        ward  population  public_meeting              recorded_by scheme_management  permit  construction_year extraction_type extraction_type_group extraction_type_class management management_group         payment payment_type water_quality quality_group      quantity quantity_group                source           source_type source_class              waterpoint_type waterpoint_type_group    status_group\n",
       "0      6000.0         Roman        1390         Roman  34.938093  -9.856322                  none            0               Lake Nyasa    Mnyusi B   Iringa           11              5     Ludewa    Mundindi         109            True  GeoData Consultants Ltd               VWC   False               1999         gravity               gravity               gravity        vwc       user-group    pay annually     annually          soft          good        enough         enough                spring                spring  groundwater           communal standpipe    communal standpipe      functional\n",
       "1         0.0       Grumeti        1399       GRUMETI  34.698766  -2.147466              Zahanati            0            Lake Victoria     Nyamara     Mara           20              2  Serengeti       Natta         280            True  GeoData Consultants Ltd             Other    True               2010         gravity               gravity               gravity        wug       user-group       never pay    never pay          soft          good  insufficient   insufficient  rainwater harvesting  rainwater harvesting      surface           communal standpipe    communal standpipe      functional\n",
       "2        25.0  Lottery Club         686  World vision  37.460664  -3.821329           Kwa Mahundi            0                  Pangani     Majengo  Manyara           21              4  Simanjiro     Ngorika         250            True  GeoData Consultants Ltd               VWC    True               2009         gravity               gravity               gravity        vwc       user-group  pay per bucket   per bucket          soft          good        enough         enough                   dam                   dam      surface  communal standpipe multiple    communal standpipe      functional\n",
       "3         0.0        Unicef         263        UNICEF  38.486161 -11.155298  Zahanati Ya Nanyumbu            0  Ruvuma / Southern Coast  Mahakamani   Mtwara           90             63   Nanyumbu    Nanyumbu          58            True  GeoData Consultants Ltd               VWC    True               1986     submersible           submersible           submersible        vwc       user-group       never pay    never pay          soft          good           dry            dry           machine dbh              borehole  groundwater  communal standpipe multiple    communal standpipe  non functional\n",
       "4         0.0   Action In A           0       Artisan  31.130847  -1.825359               Shuleni            0            Lake Victoria  Kyanyamisa   Kagera           18              1    Karagwe  Nyakasimbi           0            True  GeoData Consultants Ltd               VWC    True                  0         gravity               gravity               gravity      other            other       never pay    never pay          soft          good      seasonal       seasonal  rainwater harvesting  rainwater harvesting      surface           communal standpipe    communal standpipe      functional"
      ]
     },
     "execution_count": 4,
     "metadata": {},
     "output_type": "execute_result"
    }
   ],
   "source": [
    "df.head()"
   ]
  },
  {
   "cell_type": "code",
   "execution_count": 5,
   "metadata": {
    "ExecuteTime": {
     "end_time": "2020-08-21T20:43:45.273269Z",
     "start_time": "2020-08-21T20:43:45.246785Z"
    }
   },
   "outputs": [
    {
     "name": "stdout",
     "output_type": "stream",
     "text": [
      "59029\n"
     ]
    },
    {
     "data": {
      "text/plain": [
       "0       58272\n",
       "6          81\n",
       "1          73\n",
       "5          46\n",
       "8          46\n",
       "32         40\n",
       "45         36\n",
       "15         35\n",
       "39         30\n",
       "93         28\n",
       "3          27\n",
       "7          26\n",
       "2          23\n",
       "65         22\n",
       "47         21\n",
       "102        20\n",
       "4          20\n",
       "17         17\n",
       "80         15\n",
       "20         14\n",
       "25         12\n",
       "11         11\n",
       "41         10\n",
       "34         10\n",
       "16          8\n",
       "120         7\n",
       "150         6\n",
       "22          6\n",
       "12          5\n",
       "24          5\n",
       "50          5\n",
       "38          4\n",
       "58          4\n",
       "9           4\n",
       "10          4\n",
       "14          3\n",
       "61          3\n",
       "27          2\n",
       "26          2\n",
       "160         1\n",
       "30          1\n",
       "698         1\n",
       "60          1\n",
       "1402        1\n",
       "450         1\n",
       "668         1\n",
       "131         1\n",
       "35          1\n",
       "672         1\n",
       "42          1\n",
       "136         1\n",
       "87          1\n",
       "300         1\n",
       "280         1\n",
       "141         1\n",
       "62          1\n",
       "111         1\n",
       "240         1\n",
       "1776        1\n",
       "755         1\n",
       "180         1\n",
       "213         1\n",
       "23          1\n",
       "55          1\n",
       "94          1\n",
       "Name: num_private, dtype: int64"
      ]
     },
     "execution_count": 5,
     "metadata": {},
     "output_type": "execute_result"
    }
   ],
   "source": [
    "print(len(df))\n",
    "df[\"num_private\"].value_counts()"
   ]
  },
  {
   "cell_type": "markdown",
   "metadata": {},
   "source": [
    "# Create dummy varaibles"
   ]
  },
  {
   "cell_type": "code",
   "execution_count": 7,
   "metadata": {
    "ExecuteTime": {
     "end_time": "2020-08-21T20:43:53.068849Z",
     "start_time": "2020-08-21T20:43:51.776593Z"
    }
   },
   "outputs": [
    {
     "name": "stdout",
     "output_type": "stream",
     "text": [
      "______________\n",
      "amount_tsh\n",
      "unique values 98 \n",
      "\n",
      "0.0       41268\n",
      "500.0      3102\n",
      "50.0       2472\n",
      "1000.0     1488\n",
      "20.0       1463\n",
      "Name: amount_tsh, dtype: int64\n",
      "______________\n",
      "______________\n",
      "funder\n",
      "unique values 1894 \n",
      "\n",
      "Government Of Tanzania    12649\n",
      "Danida                     3114\n",
      "Hesawa                     2200\n",
      "Rwssp                      1374\n",
      "Kkkt                       1286\n",
      "Name: funder, dtype: int64\n",
      "______________\n",
      "______________\n",
      "gps_height\n",
      "unique values 2428 \n",
      "\n",
      " 0     20077\n",
      "-15       60\n",
      "-16       55\n",
      "-13       55\n",
      "-20       52\n",
      "Name: gps_height, dtype: int64\n",
      "______________\n",
      "______________\n",
      "installer\n",
      "unique values 2134 \n",
      "\n",
      "DWE           21016\n",
      "Government     1825\n",
      "RWE            1205\n",
      "DANIDA         1050\n",
      "KKKT            898\n",
      "Name: installer, dtype: int64\n",
      "______________\n",
      "______________\n",
      "longitude\n",
      "unique values 57145 \n",
      "\n",
      "0.000000     1812\n",
      "37.252194       2\n",
      "37.540901       2\n",
      "33.010510       2\n",
      "39.093484       2\n",
      "Name: longitude, dtype: int64\n",
      "______________\n",
      "______________\n",
      "latitude\n",
      "unique values 57146 \n",
      "\n",
      "-2.000000e-08    1812\n",
      "-2.485227e+00       2\n",
      "-6.991294e+00       2\n",
      "-7.056923e+00       2\n",
      "-6.978755e+00       2\n",
      "Name: latitude, dtype: int64\n",
      "______________\n",
      "______________\n",
      "wpt_name\n",
      "unique values 37231 \n",
      "\n",
      "none         3559\n",
      "Shuleni      1714\n",
      "Zahanati      811\n",
      "Msikitini     533\n",
      "Kanisani      313\n",
      "Name: wpt_name, dtype: int64\n",
      "______________\n",
      "______________\n",
      "num_private\n",
      "unique values 65 \n",
      "\n",
      "0    58272\n",
      "6       81\n",
      "1       73\n",
      "5       46\n",
      "8       46\n",
      "Name: num_private, dtype: int64\n",
      "______________\n",
      "______________\n",
      "basin\n",
      "unique values 9 \n",
      "\n",
      "Lake Victoria      10238\n",
      "Pangani             8940\n",
      "Rufiji              7976\n",
      "Internal            7785\n",
      "Lake Tanganyika     6432\n",
      "Name: basin, dtype: int64\n",
      "______________\n",
      "______________\n",
      "subvillage\n",
      "unique values 19287 \n",
      "\n",
      "Madukani    508\n",
      "Shuleni     506\n",
      "Majengo     502\n",
      "Kati        373\n",
      "Mtakuja     262\n",
      "Name: subvillage, dtype: int64\n",
      "______________\n",
      "______________\n",
      "region\n",
      "unique values 21 \n",
      "\n",
      "Iringa         5294\n",
      "Shinyanga      4982\n",
      "Mbeya          4639\n",
      "Kilimanjaro    4379\n",
      "Morogoro       4006\n",
      "Name: region, dtype: int64\n",
      "______________\n",
      "______________\n",
      "region_code\n",
      "unique values 27 \n",
      "\n",
      "11    5300\n",
      "17    5011\n",
      "12    4639\n",
      "3     4379\n",
      "5     4040\n",
      "Name: region_code, dtype: int64\n",
      "______________\n",
      "______________\n",
      "district_code\n",
      "unique values 20 \n",
      "\n",
      "1    12193\n",
      "2    11173\n",
      "3     9637\n",
      "4     8999\n",
      "5     4356\n",
      "Name: district_code, dtype: int64\n",
      "______________\n",
      "______________\n",
      "lga\n",
      "unique values 124 \n",
      "\n",
      "Njombe          2503\n",
      "Arusha Rural    1252\n",
      "Moshi Rural     1251\n",
      "Bariadi         1177\n",
      "Rungwe          1106\n",
      "Name: lga, dtype: int64\n",
      "______________\n",
      "______________\n",
      "ward\n",
      "unique values 2080 \n",
      "\n",
      "Igosi        307\n",
      "Imalinyi     252\n",
      "Siha Kati    232\n",
      "Mdandu       231\n",
      "Nduruma      217\n",
      "Name: ward, dtype: int64\n",
      "______________\n",
      "______________\n",
      "population\n",
      "unique values 1049 \n",
      "\n",
      "0      21020\n",
      "1       7024\n",
      "200     1940\n",
      "150     1892\n",
      "250     1681\n",
      "Name: population, dtype: int64\n",
      "______________\n",
      "______________\n",
      "public_meeting\n",
      "unique values 2 \n",
      "\n",
      "True     53697\n",
      "False     5332\n",
      "Name: public_meeting, dtype: int64\n",
      "______________\n",
      "______________\n",
      "recorded_by\n",
      "unique values 1 \n",
      "\n",
      "GeoData Consultants Ltd    59029\n",
      "Name: recorded_by, dtype: int64\n",
      "______________\n",
      "______________\n",
      "scheme_management\n",
      "unique values 12 \n",
      "\n",
      "VWC                40306\n",
      "WUG                 5206\n",
      "Water authority     3147\n",
      "WUA                 2883\n",
      "Water Board         2747\n",
      "Name: scheme_management, dtype: int64\n",
      "______________\n",
      "______________\n",
      "permit\n",
      "unique values 2 \n",
      "\n",
      "True     40908\n",
      "False    18121\n",
      "Name: permit, dtype: int64\n",
      "______________\n",
      "______________\n",
      "construction_year\n",
      "unique values 55 \n",
      "\n",
      "0       20348\n",
      "2010     2644\n",
      "2008     2613\n",
      "2009     2533\n",
      "2000     2091\n",
      "Name: construction_year, dtype: int64\n",
      "______________\n",
      "______________\n",
      "extraction_type\n",
      "unique values 18 \n",
      "\n",
      "gravity        26646\n",
      "nira/tanira     8151\n",
      "other           6421\n",
      "submersible     4656\n",
      "swn 80          3670\n",
      "Name: extraction_type, dtype: int64\n",
      "______________\n",
      "______________\n",
      "extraction_type_group\n",
      "unique values 13 \n",
      "\n",
      "gravity        26646\n",
      "nira/tanira     8151\n",
      "other           6421\n",
      "submersible     6071\n",
      "swn 80          3670\n",
      "Name: extraction_type_group, dtype: int64\n",
      "______________\n",
      "______________\n",
      "extraction_type_class\n",
      "unique values 7 \n",
      "\n",
      "gravity        26646\n",
      "handpump       16453\n",
      "other           6421\n",
      "submersible     6071\n",
      "motorpump       2870\n",
      "Name: extraction_type_class, dtype: int64\n",
      "______________\n",
      "______________\n",
      "management\n",
      "unique values 12 \n",
      "\n",
      "vwc                 40189\n",
      "wug                  6515\n",
      "water board          2933\n",
      "wua                  2535\n",
      "private operator     1932\n",
      "Name: management, dtype: int64\n",
      "______________\n",
      "______________\n",
      "management_group\n",
      "unique values 5 \n",
      "\n",
      "user-group    52172\n",
      "commercial     3590\n",
      "parastatal     1768\n",
      "other           938\n",
      "unknown         561\n",
      "Name: management_group, dtype: int64\n",
      "______________\n",
      "______________\n",
      "payment\n",
      "unique values 7 \n",
      "\n",
      "never pay                25246\n",
      "pay per bucket            8767\n",
      "pay monthly               8300\n",
      "unknown                   8157\n",
      "pay when scheme fails     3914\n",
      "Name: payment, dtype: int64\n",
      "______________\n",
      "______________\n",
      "payment_type\n",
      "unique values 7 \n",
      "\n",
      "never pay     25246\n",
      "per bucket     8767\n",
      "monthly        8300\n",
      "unknown        8157\n",
      "on failure     3914\n",
      "Name: payment_type, dtype: int64\n",
      "______________\n",
      "______________\n",
      "water_quality\n",
      "unique values 8 \n",
      "\n",
      "soft        50666\n",
      "salty        4638\n",
      "unknown      1876\n",
      "milky         804\n",
      "coloured      490\n",
      "Name: water_quality, dtype: int64\n",
      "______________\n",
      "______________\n",
      "quality_group\n",
      "unique values 6 \n",
      "\n",
      "good       50666\n",
      "salty       4976\n",
      "unknown     1876\n",
      "milky        804\n",
      "colored      490\n",
      "Name: quality_group, dtype: int64\n",
      "______________\n",
      "______________\n",
      "quantity\n",
      "unique values 5 \n",
      "\n",
      "enough          33087\n",
      "insufficient    15020\n",
      "dry              6087\n",
      "seasonal         4046\n",
      "unknown           789\n",
      "Name: quantity, dtype: int64\n",
      "______________\n",
      "______________\n",
      "quantity_group\n",
      "unique values 5 \n",
      "\n",
      "enough          33087\n",
      "insufficient    15020\n",
      "dry              6087\n",
      "seasonal         4046\n",
      "unknown           789\n",
      "Name: quantity_group, dtype: int64\n",
      "______________\n",
      "______________\n",
      "source\n",
      "unique values 10 \n",
      "\n",
      "spring                  16886\n",
      "shallow well            16817\n",
      "machine dbh             10849\n",
      "river                    9612\n",
      "rainwater harvesting     2293\n",
      "Name: source, dtype: int64\n",
      "______________\n",
      "______________\n",
      "source_type\n",
      "unique values 7 \n",
      "\n",
      "spring                  16886\n",
      "shallow well            16817\n",
      "borehole                11723\n",
      "river/lake              10376\n",
      "rainwater harvesting     2293\n",
      "Name: source_type, dtype: int64\n",
      "______________\n",
      "______________\n",
      "source_class\n",
      "unique values 3 \n",
      "\n",
      "groundwater    45426\n",
      "surface        13325\n",
      "unknown          278\n",
      "Name: source_class, dtype: int64\n",
      "______________\n",
      "______________\n",
      "waterpoint_type\n",
      "unique values 7 \n",
      "\n",
      "communal standpipe             28407\n",
      "hand pump                      17485\n",
      "other                           6371\n",
      "communal standpipe multiple     5859\n",
      "improved spring                  784\n",
      "Name: waterpoint_type, dtype: int64\n",
      "______________\n",
      "______________\n",
      "waterpoint_type_group\n",
      "unique values 6 \n",
      "\n",
      "communal standpipe    34266\n",
      "hand pump             17485\n",
      "other                  6371\n",
      "improved spring         784\n",
      "cattle trough           116\n",
      "Name: waterpoint_type_group, dtype: int64\n",
      "______________\n",
      "______________\n",
      "status_group\n",
      "unique values 3 \n",
      "\n",
      "functional                 32054\n",
      "non functional             22659\n",
      "functional needs repair     4316\n",
      "Name: status_group, dtype: int64\n",
      "______________\n"
     ]
    }
   ],
   "source": [
    "for col in df.columns:\n",
    "    print('______________')\n",
    "    print(col)\n",
    "    print('unique values',len(set(df[col])), '\\n')\n",
    "    print(df[col].value_counts().head())\n",
    "    print('______________')"
   ]
  },
  {
   "cell_type": "code",
   "execution_count": 8,
   "metadata": {
    "ExecuteTime": {
     "end_time": "2020-08-21T20:43:53.229882Z",
     "start_time": "2020-08-21T20:43:53.212457Z"
    }
   },
   "outputs": [],
   "source": [
    "# >= 8 unique values\n",
    "large_catagoricals = ['funder', 'installer', 'wpt_name', 'subvillage', \n",
    "                      'region', 'region_code', 'district_code', 'lga', 'ward', \n",
    "                      'scheme_management', 'extraction_type', \n",
    "                      'extraction_type_group', 'management', 'water_quality', \n",
    "                      'source', ]\n",
    "# < 8\n",
    "small_catagoricals = ['basin', 'public_meeting', 'permit',\n",
    "                      'extraction_type_class', 'management_group', 'payment',\n",
    "                      'payment_type', 'quality_group', 'quantity', 'quantity_group', \n",
    "                      'source_type', 'source_class', 'waterpoint_type', \n",
    "                      'waterpoint_type_group',]\n",
    "\n",
    "other = ['construction_year', 'year', 'month', 'longitude', 'latitude', \n",
    "         'num_private', 'population']"
   ]
  },
  {
   "cell_type": "code",
   "execution_count": 9,
   "metadata": {
    "ExecuteTime": {
     "end_time": "2020-08-21T20:44:41.041611Z",
     "start_time": "2020-08-21T20:44:40.991712Z"
    }
   },
   "outputs": [],
   "source": [
    "df.drop('recorded_by', axis=1, inplace=True)"
   ]
  },
  {
   "cell_type": "code",
   "execution_count": 10,
   "metadata": {
    "ExecuteTime": {
     "end_time": "2020-08-21T20:44:42.227758Z",
     "start_time": "2020-08-21T20:44:42.212397Z"
    }
   },
   "outputs": [],
   "source": [
    "def make_dummy(col):\n",
    "    top_3_values = df[col].value_counts()[:3]\n",
    "    other_values = df[col].value_counts()[3:]\n",
    "    \n",
    "    for name in top_3_values.keys():\n",
    "        df.loc[df[col] == name, f'{col}: {name}'] =1\n",
    "        \n",
    "    for name in other_values.keys():\n",
    "        df.loc[df[col] == name, f'{col}: other'] =1\n",
    "    \n",
    "    df.drop(col, axis=1, inplace=True)"
   ]
  },
  {
   "cell_type": "code",
   "execution_count": 11,
   "metadata": {
    "ExecuteTime": {
     "end_time": "2020-08-21T20:56:07.052246Z",
     "start_time": "2020-08-21T20:44:49.259953Z"
    }
   },
   "outputs": [],
   "source": [
    "for title in large_catagoricals:\n",
    "    make_dummy(title)"
   ]
  },
  {
   "cell_type": "code",
   "execution_count": 12,
   "metadata": {
    "ExecuteTime": {
     "end_time": "2020-08-21T20:56:39.532867Z",
     "start_time": "2020-08-21T20:56:31.708359Z"
    }
   },
   "outputs": [],
   "source": [
    "df.to_csv('csv_files/training_data_dummies')"
   ]
  },
  {
   "cell_type": "code",
   "execution_count": 13,
   "metadata": {
    "ExecuteTime": {
     "end_time": "2020-08-21T20:56:48.505229Z",
     "start_time": "2020-08-21T20:56:47.645902Z"
    }
   },
   "outputs": [],
   "source": [
    "df = pd.read_csv('csv_files/training_data_dummies')"
   ]
  },
  {
   "cell_type": "code",
   "execution_count": 14,
   "metadata": {
    "ExecuteTime": {
     "end_time": "2020-08-21T20:56:49.172371Z",
     "start_time": "2020-08-21T20:56:49.102817Z"
    }
   },
   "outputs": [],
   "source": [
    "df.drop('Unnamed: 0', axis=1, inplace=True)"
   ]
  },
  {
   "cell_type": "code",
   "execution_count": 15,
   "metadata": {
    "ExecuteTime": {
     "end_time": "2020-08-21T20:56:49.595474Z",
     "start_time": "2020-08-21T20:56:49.587037Z"
    }
   },
   "outputs": [],
   "source": [
    "df2 = df"
   ]
  },
  {
   "cell_type": "code",
   "execution_count": 16,
   "metadata": {
    "ExecuteTime": {
     "end_time": "2020-08-21T20:56:53.521919Z",
     "start_time": "2020-08-21T20:56:50.718935Z"
    }
   },
   "outputs": [],
   "source": [
    "for name in small_catagoricals:\n",
    "    dummies = pd.get_dummies(df2[name], prefix=name)\n",
    "    df2 = pd.concat([df2, dummies], axis =1)\n",
    "    df2.drop(name, axis=1, inplace=True)"
   ]
  },
  {
   "cell_type": "code",
   "execution_count": 17,
   "metadata": {
    "ExecuteTime": {
     "end_time": "2020-08-21T20:56:55.690721Z",
     "start_time": "2020-08-21T20:56:54.044044Z"
    }
   },
   "outputs": [
    {
     "data": {
      "text/plain": [
       "<Figure size 640x480 with 1 Axes>"
      ]
     },
     "metadata": {},
     "output_type": "display_data"
    }
   ],
   "source": [
    "import seaborn as sns\n",
    "import matplotlib.pyplot as plt\n",
    "\n",
    "sns.scatterplot(x='longitude', y='latitude', hue='status_group', data=df2, palette='Paired');\n",
    "plt.xlim(28, 43)\n",
    "plt.show()\n",
    "\n"
   ]
  },
  {
   "cell_type": "code",
   "execution_count": 18,
   "metadata": {
    "ExecuteTime": {
     "end_time": "2020-08-21T20:56:56.515166Z",
     "start_time": "2020-08-21T20:56:56.145827Z"
    }
   },
   "outputs": [],
   "source": [
    "df2.loc[(df2['latitude'] >= -6) & (df2['longitude'] <= 35), 'NW'] =1\n",
    "\n",
    "df2.loc[(df2['latitude'] >= -6) & (df2['longitude'] > 35), 'NE'] =1\n",
    "\n",
    "df2.loc[(df2['latitude'] < -6) & (df2['longitude'] <= 35), 'SW'] =1\n",
    "\n",
    "df2.loc[(df2['latitude'] < -6) & (df2['longitude'] > 35), 'SE'] =1\n",
    "\n",
    "df2.drop(['longitude', 'latitude'], axis=1, inplace=True)"
   ]
  },
  {
   "cell_type": "code",
   "execution_count": 19,
   "metadata": {
    "ExecuteTime": {
     "end_time": "2020-08-21T20:57:02.807924Z",
     "start_time": "2020-08-21T20:57:02.631449Z"
    }
   },
   "outputs": [],
   "source": [
    "df2 = df2.fillna(0)"
   ]
  },
  {
   "cell_type": "code",
   "execution_count": 20,
   "metadata": {
    "ExecuteTime": {
     "end_time": "2020-08-21T20:57:03.384220Z",
     "start_time": "2020-08-21T20:57:03.363150Z"
    }
   },
   "outputs": [
    {
     "data": {
      "text/plain": [
       "{'functional', 'functional needs repair', 'non functional'}"
      ]
     },
     "execution_count": 20,
     "metadata": {},
     "output_type": "execute_result"
    }
   ],
   "source": [
    "set(df2['status_group'])"
   ]
  },
  {
   "cell_type": "code",
   "execution_count": 21,
   "metadata": {
    "ExecuteTime": {
     "end_time": "2020-08-21T20:57:08.774584Z",
     "start_time": "2020-08-21T20:57:08.752591Z"
    }
   },
   "outputs": [],
   "source": [
    "df2['status_group'] = df2['status_group'].replace(['functional needs repair'], 2)"
   ]
  },
  {
   "cell_type": "code",
   "execution_count": 22,
   "metadata": {
    "ExecuteTime": {
     "end_time": "2020-08-21T20:57:09.354558Z",
     "start_time": "2020-08-21T20:57:09.330971Z"
    }
   },
   "outputs": [],
   "source": [
    "df2['status_group'] = df2['status_group'].replace(['functional', ], 1)"
   ]
  },
  {
   "cell_type": "code",
   "execution_count": 23,
   "metadata": {
    "ExecuteTime": {
     "end_time": "2020-08-21T20:57:09.871420Z",
     "start_time": "2020-08-21T20:57:09.830261Z"
    }
   },
   "outputs": [],
   "source": [
    "df2['status_group'] = df2['status_group'].replace(['non functional'], 0)"
   ]
  },
  {
   "cell_type": "code",
   "execution_count": 24,
   "metadata": {
    "ExecuteTime": {
     "end_time": "2020-08-21T20:57:10.421300Z",
     "start_time": "2020-08-21T20:57:10.377525Z"
    },
    "scrolled": true
   },
   "outputs": [
    {
     "name": "stdout",
     "output_type": "stream",
     "text": [
      "<class 'pandas.core.frame.DataFrame'>\n",
      "RangeIndex: 59029 entries, 0 to 59028\n",
      "Data columns (total 146 columns):\n",
      "amount_tsh                                     float64\n",
      "gps_height                                     int64\n",
      "num_private                                    int64\n",
      "population                                     int64\n",
      "construction_year                              int64\n",
      "status_group                                   int64\n",
      "funder: Government Of Tanzania                 float64\n",
      "funder: Danida                                 float64\n",
      "funder: Hesawa                                 float64\n",
      "funder: other                                  float64\n",
      "installer: DWE                                 float64\n",
      "installer: Government                          float64\n",
      "installer: RWE                                 float64\n",
      "installer: other                               float64\n",
      "wpt_name: none                                 float64\n",
      "wpt_name: Shuleni                              float64\n",
      "wpt_name: Zahanati                             float64\n",
      "wpt_name: other                                float64\n",
      "subvillage: Madukani                           float64\n",
      "subvillage: Shuleni                            float64\n",
      "subvillage: Majengo                            float64\n",
      "subvillage: other                              float64\n",
      "region: Iringa                                 float64\n",
      "region: Shinyanga                              float64\n",
      "region: Mbeya                                  float64\n",
      "region: other                                  float64\n",
      "region_code: 11                                float64\n",
      "region_code: 17                                float64\n",
      "region_code: 12                                float64\n",
      "region_code: other                             float64\n",
      "district_code: 1                               float64\n",
      "district_code: 2                               float64\n",
      "district_code: 3                               float64\n",
      "district_code: other                           float64\n",
      "lga: Njombe                                    float64\n",
      "lga: Arusha Rural                              float64\n",
      "lga: Moshi Rural                               float64\n",
      "lga: other                                     float64\n",
      "ward: Igosi                                    float64\n",
      "ward: Imalinyi                                 float64\n",
      "ward: Siha Kati                                float64\n",
      "ward: other                                    float64\n",
      "scheme_management: VWC                         float64\n",
      "scheme_management: WUG                         float64\n",
      "scheme_management: Water authority             float64\n",
      "scheme_management: other                       float64\n",
      "extraction_type: gravity                       float64\n",
      "extraction_type: nira/tanira                   float64\n",
      "extraction_type: other                         float64\n",
      "extraction_type_group: gravity                 float64\n",
      "extraction_type_group: nira/tanira             float64\n",
      "extraction_type_group: other                   float64\n",
      "management: vwc                                float64\n",
      "management: wug                                float64\n",
      "management: water board                        float64\n",
      "management: other                              float64\n",
      "water_quality: soft                            float64\n",
      "water_quality: salty                           float64\n",
      "water_quality: unknown                         float64\n",
      "water_quality: other                           float64\n",
      "source: spring                                 float64\n",
      "source: shallow well                           float64\n",
      "source: machine dbh                            float64\n",
      "source: other                                  float64\n",
      "basin_Internal                                 uint8\n",
      "basin_Lake Nyasa                               uint8\n",
      "basin_Lake Rukwa                               uint8\n",
      "basin_Lake Tanganyika                          uint8\n",
      "basin_Lake Victoria                            uint8\n",
      "basin_Pangani                                  uint8\n",
      "basin_Rufiji                                   uint8\n",
      "basin_Ruvuma / Southern Coast                  uint8\n",
      "basin_Wami / Ruvu                              uint8\n",
      "public_meeting_False                           uint8\n",
      "public_meeting_True                            uint8\n",
      "permit_False                                   uint8\n",
      "permit_True                                    uint8\n",
      "extraction_type_class_gravity                  uint8\n",
      "extraction_type_class_handpump                 uint8\n",
      "extraction_type_class_motorpump                uint8\n",
      "extraction_type_class_other                    uint8\n",
      "extraction_type_class_rope pump                uint8\n",
      "extraction_type_class_submersible              uint8\n",
      "extraction_type_class_wind-powered             uint8\n",
      "management_group_commercial                    uint8\n",
      "management_group_other                         uint8\n",
      "management_group_parastatal                    uint8\n",
      "management_group_unknown                       uint8\n",
      "management_group_user-group                    uint8\n",
      "payment_never pay                              uint8\n",
      "payment_other                                  uint8\n",
      "payment_pay annually                           uint8\n",
      "payment_pay monthly                            uint8\n",
      "payment_pay per bucket                         uint8\n",
      "payment_pay when scheme fails                  uint8\n",
      "payment_unknown                                uint8\n",
      "payment_type_annually                          uint8\n",
      "payment_type_monthly                           uint8\n",
      "payment_type_never pay                         uint8\n",
      "payment_type_on failure                        uint8\n",
      "payment_type_other                             uint8\n",
      "payment_type_per bucket                        uint8\n",
      "payment_type_unknown                           uint8\n",
      "quality_group_colored                          uint8\n",
      "quality_group_fluoride                         uint8\n",
      "quality_group_good                             uint8\n",
      "quality_group_milky                            uint8\n",
      "quality_group_salty                            uint8\n",
      "quality_group_unknown                          uint8\n",
      "quantity_dry                                   uint8\n",
      "quantity_enough                                uint8\n",
      "quantity_insufficient                          uint8\n",
      "quantity_seasonal                              uint8\n",
      "quantity_unknown                               uint8\n",
      "quantity_group_dry                             uint8\n",
      "quantity_group_enough                          uint8\n",
      "quantity_group_insufficient                    uint8\n",
      "quantity_group_seasonal                        uint8\n",
      "quantity_group_unknown                         uint8\n",
      "source_type_borehole                           uint8\n",
      "source_type_dam                                uint8\n",
      "source_type_other                              uint8\n",
      "source_type_rainwater harvesting               uint8\n",
      "source_type_river/lake                         uint8\n",
      "source_type_shallow well                       uint8\n",
      "source_type_spring                             uint8\n",
      "source_class_groundwater                       uint8\n",
      "source_class_surface                           uint8\n",
      "source_class_unknown                           uint8\n",
      "waterpoint_type_cattle trough                  uint8\n",
      "waterpoint_type_communal standpipe             uint8\n",
      "waterpoint_type_communal standpipe multiple    uint8\n",
      "waterpoint_type_dam                            uint8\n",
      "waterpoint_type_hand pump                      uint8\n",
      "waterpoint_type_improved spring                uint8\n",
      "waterpoint_type_other                          uint8\n",
      "waterpoint_type_group_cattle trough            uint8\n",
      "waterpoint_type_group_communal standpipe       uint8\n",
      "waterpoint_type_group_dam                      uint8\n",
      "waterpoint_type_group_hand pump                uint8\n",
      "waterpoint_type_group_improved spring          uint8\n",
      "waterpoint_type_group_other                    uint8\n",
      "NW                                             float64\n",
      "NE                                             float64\n",
      "SW                                             float64\n",
      "SE                                             float64\n",
      "dtypes: float64(63), int64(5), uint8(78)\n",
      "memory usage: 35.0 MB\n"
     ]
    }
   ],
   "source": [
    "df2.info(verbose=True)"
   ]
  },
  {
   "cell_type": "markdown",
   "metadata": {},
   "source": [
    "# Train Test Split"
   ]
  },
  {
   "cell_type": "code",
   "execution_count": 25,
   "metadata": {
    "ExecuteTime": {
     "end_time": "2020-08-21T21:02:56.349721Z",
     "start_time": "2020-08-21T21:02:56.286374Z"
    }
   },
   "outputs": [],
   "source": [
    "X = df2.drop(['status_group'], axis = 1)\n",
    "y = df2['status_group']"
   ]
  },
  {
   "cell_type": "code",
   "execution_count": 26,
   "metadata": {
    "ExecuteTime": {
     "end_time": "2020-08-21T21:02:59.143136Z",
     "start_time": "2020-08-21T21:02:58.364559Z"
    }
   },
   "outputs": [],
   "source": [
    "from sklearn.model_selection import train_test_split\n",
    "\n",
    "X_train, X_test, y_train, y_test = train_test_split(X, y, random_state=123)"
   ]
  },
  {
   "cell_type": "markdown",
   "metadata": {},
   "source": [
    "## Scaled data"
   ]
  },
  {
   "cell_type": "code",
   "execution_count": 27,
   "metadata": {
    "ExecuteTime": {
     "end_time": "2020-08-21T21:03:00.811853Z",
     "start_time": "2020-08-21T21:03:00.491655Z"
    }
   },
   "outputs": [],
   "source": [
    "from sklearn.preprocessing import MinMaxScaler\n",
    "mmscaler = MinMaxScaler()\n",
    "\n",
    "\n",
    "X_train_minmax = mmscaler.fit_transform(X_train)\n",
    "X_test_minmax = mmscaler.transform(X_test)"
   ]
  },
  {
   "cell_type": "markdown",
   "metadata": {},
   "source": [
    "# Logistic Regression"
   ]
  },
  {
   "cell_type": "markdown",
   "metadata": {},
   "source": [
    "## Base Model"
   ]
  },
  {
   "cell_type": "code",
   "execution_count": 28,
   "metadata": {
    "ExecuteTime": {
     "end_time": "2020-08-21T21:03:06.647295Z",
     "start_time": "2020-08-21T21:03:02.226775Z"
    }
   },
   "outputs": [
    {
     "data": {
      "text/plain": [
       "LogisticRegression(C=1000000000000.0, fit_intercept=False,\n",
       "                   multi_class='multinomial')"
      ]
     },
     "execution_count": 28,
     "metadata": {},
     "output_type": "execute_result"
    }
   ],
   "source": [
    "from sklearn.linear_model import LogisticRegression\n",
    "\n",
    "logreg = LogisticRegression(fit_intercept=False, C=1e12, multi_class = 'multinomial', solver='lbfgs')\n",
    "model_log = logreg.fit(X_train_minmax, y_train)\n",
    "model_log"
   ]
  },
  {
   "cell_type": "code",
   "execution_count": 29,
   "metadata": {
    "ExecuteTime": {
     "end_time": "2020-08-21T21:03:08.011649Z",
     "start_time": "2020-08-21T21:03:07.956863Z"
    }
   },
   "outputs": [],
   "source": [
    "y_hat_test = logreg.predict(X_test_minmax)\n",
    "y_hat_train = logreg.predict(X_train_minmax)"
   ]
  },
  {
   "cell_type": "code",
   "execution_count": 30,
   "metadata": {
    "ExecuteTime": {
     "end_time": "2020-08-21T21:03:13.643749Z",
     "start_time": "2020-08-21T21:03:09.334375Z"
    }
   },
   "outputs": [],
   "source": [
    "from sklearn.metrics import roc_auc_score\n",
    "\n",
    "y_score = logreg.fit(X_train_minmax, y_train).predict_proba(X_test_minmax)\n",
    "\n",
    "auc = roc_auc_score(y_test, y_score, multi_class = 'ovo')"
   ]
  },
  {
   "cell_type": "code",
   "execution_count": 31,
   "metadata": {
    "ExecuteTime": {
     "end_time": "2020-08-21T21:03:15.033718Z",
     "start_time": "2020-08-21T21:03:14.961426Z"
    }
   },
   "outputs": [
    {
     "name": "stdout",
     "output_type": "stream",
     "text": [
      "Test data\n",
      "                         precision    recall  f1-score   support\n",
      "\n",
      "         non functional       0.77      0.60      0.68      5664\n",
      "             functional       0.70      0.90      0.79      8006\n",
      "functional needs repair       0.45      0.07      0.12      1088\n",
      "\n",
      "               accuracy                           0.72     14758\n",
      "              macro avg       0.64      0.52      0.53     14758\n",
      "           weighted avg       0.71      0.72      0.70     14758\n",
      "\n",
      "AUC: 0.7888792974951123\n"
     ]
    }
   ],
   "source": [
    "from sklearn.metrics import classification_report\n",
    "\n",
    "\n",
    "target_names = ['non functional', 'functional', 'functional needs repair']\n",
    "\n",
    "print('Test data')\n",
    "print(classification_report(y_test, y_hat_test, target_names= target_names))\n",
    "print(f'AUC: {auc}')\n"
   ]
  },
  {
   "cell_type": "code",
   "execution_count": 32,
   "metadata": {
    "ExecuteTime": {
     "end_time": "2020-08-21T21:03:16.517918Z",
     "start_time": "2020-08-21T21:03:16.476843Z"
    }
   },
   "outputs": [
    {
     "name": "stdout",
     "output_type": "stream",
     "text": [
      "Confusion Matrix:\n",
      " [[3417 2211   36]\n",
      " [ 782 7172   52]\n",
      " [ 215  801   72]]\n"
     ]
    }
   ],
   "source": [
    "from sklearn.metrics import confusion_matrix\n",
    "\n",
    "\n",
    "cnf_matrix = confusion_matrix(y_test, y_hat_test)\n",
    "print('Confusion Matrix:\\n', cnf_matrix)"
   ]
  },
  {
   "cell_type": "markdown",
   "metadata": {},
   "source": [
    "## Weighted"
   ]
  },
  {
   "cell_type": "code",
   "execution_count": 33,
   "metadata": {
    "ExecuteTime": {
     "end_time": "2020-08-21T21:03:29.151974Z",
     "start_time": "2020-08-21T21:03:29.131484Z"
    }
   },
   "outputs": [
    {
     "data": {
      "text/plain": [
       "1    24048\n",
       "0    16995\n",
       "2     3228\n",
       "Name: status_group, dtype: int64"
      ]
     },
     "execution_count": 33,
     "metadata": {},
     "output_type": "execute_result"
    }
   ],
   "source": [
    "y_train.value_counts()"
   ]
  },
  {
   "cell_type": "code",
   "execution_count": 34,
   "metadata": {
    "ExecuteTime": {
     "end_time": "2020-08-21T21:04:04.534931Z",
     "start_time": "2020-08-21T21:03:29.155503Z"
    }
   },
   "outputs": [
    {
     "name": "stdout",
     "output_type": "stream",
     "text": [
      "LogisticRegression(C=1e+20, fit_intercept=False, multi_class='multinomial')\n",
      "AUC for None: 0.7888795889362745\n",
      "-------------------------------------------------------------------------------------\n",
      "LogisticRegression(C=1e+20, class_weight='balanced', fit_intercept=False,\n",
      "                   multi_class='multinomial')\n",
      "AUC for Balanced: 0.7966830736982177\n",
      "-------------------------------------------------------------------------------------\n",
      "LogisticRegression(C=1e+20, class_weight={0: 1, 1: 10}, fit_intercept=False,\n",
      "                   multi_class='multinomial')\n",
      "AUC for 2 to 1 to 10: 0.7715455301335149\n",
      "-------------------------------------------------------------------------------------\n",
      "LogisticRegression(C=1e+20, class_weight={0: 1, 1: 100}, fit_intercept=False,\n",
      "                   multi_class='multinomial')\n",
      "AUC for 10 to 1 to 100: 0.7579327874919971\n",
      "-------------------------------------------------------------------------------------\n"
     ]
    },
    {
     "ename": "KeyboardInterrupt",
     "evalue": "",
     "output_type": "error",
     "traceback": [
      "\u001b[1;31m---------------------------------------------------------------------------\u001b[0m",
      "\u001b[1;31mKeyboardInterrupt\u001b[0m                         Traceback (most recent call last)",
      "\u001b[1;32m<ipython-input-34-abc4bce6cb16>\u001b[0m in \u001b[0;36m<module>\u001b[1;34m\u001b[0m\n\u001b[0;32m      7\u001b[0m     logreg = LogisticRegression(fit_intercept=False, C=1e20, class_weight=weight, \n\u001b[0;32m      8\u001b[0m                                 multi_class= 'multinomial', solver='lbfgs')\n\u001b[1;32m----> 9\u001b[1;33m     \u001b[0mmodel_log\u001b[0m \u001b[1;33m=\u001b[0m \u001b[0mlogreg\u001b[0m\u001b[1;33m.\u001b[0m\u001b[0mfit\u001b[0m\u001b[1;33m(\u001b[0m\u001b[0mX_train_minmax\u001b[0m\u001b[1;33m,\u001b[0m \u001b[0my_train\u001b[0m\u001b[1;33m)\u001b[0m\u001b[1;33m\u001b[0m\u001b[1;33m\u001b[0m\u001b[0m\n\u001b[0m\u001b[0;32m     10\u001b[0m     \u001b[0mprint\u001b[0m\u001b[1;33m(\u001b[0m\u001b[0mmodel_log\u001b[0m\u001b[1;33m)\u001b[0m\u001b[1;33m\u001b[0m\u001b[1;33m\u001b[0m\u001b[0m\n\u001b[0;32m     11\u001b[0m \u001b[1;33m\u001b[0m\u001b[0m\n",
      "\u001b[1;32m~\\anaconda3\\envs\\learn-env\\lib\\site-packages\\sklearn\\linear_model\\_logistic.py\u001b[0m in \u001b[0;36mfit\u001b[1;34m(self, X, y, sample_weight)\u001b[0m\n\u001b[0;32m   1415\u001b[0m                       \u001b[0mpenalty\u001b[0m\u001b[1;33m=\u001b[0m\u001b[0mpenalty\u001b[0m\u001b[1;33m,\u001b[0m \u001b[0mmax_squared_sum\u001b[0m\u001b[1;33m=\u001b[0m\u001b[0mmax_squared_sum\u001b[0m\u001b[1;33m,\u001b[0m\u001b[1;33m\u001b[0m\u001b[1;33m\u001b[0m\u001b[0m\n\u001b[0;32m   1416\u001b[0m                       sample_weight=sample_weight)\n\u001b[1;32m-> 1417\u001b[1;33m             for class_, warm_start_coef_ in zip(classes_, warm_start_coef))\n\u001b[0m\u001b[0;32m   1418\u001b[0m \u001b[1;33m\u001b[0m\u001b[0m\n\u001b[0;32m   1419\u001b[0m         \u001b[0mfold_coefs_\u001b[0m\u001b[1;33m,\u001b[0m \u001b[0m_\u001b[0m\u001b[1;33m,\u001b[0m \u001b[0mn_iter_\u001b[0m \u001b[1;33m=\u001b[0m \u001b[0mzip\u001b[0m\u001b[1;33m(\u001b[0m\u001b[1;33m*\u001b[0m\u001b[0mfold_coefs_\u001b[0m\u001b[1;33m)\u001b[0m\u001b[1;33m\u001b[0m\u001b[1;33m\u001b[0m\u001b[0m\n",
      "\u001b[1;32m~\\anaconda3\\envs\\learn-env\\lib\\site-packages\\joblib\\parallel.py\u001b[0m in \u001b[0;36m__call__\u001b[1;34m(self, iterable)\u001b[0m\n\u001b[0;32m    919\u001b[0m             \u001b[1;31m# remaining jobs.\u001b[0m\u001b[1;33m\u001b[0m\u001b[1;33m\u001b[0m\u001b[1;33m\u001b[0m\u001b[0m\n\u001b[0;32m    920\u001b[0m             \u001b[0mself\u001b[0m\u001b[1;33m.\u001b[0m\u001b[0m_iterating\u001b[0m \u001b[1;33m=\u001b[0m \u001b[1;32mFalse\u001b[0m\u001b[1;33m\u001b[0m\u001b[1;33m\u001b[0m\u001b[0m\n\u001b[1;32m--> 921\u001b[1;33m             \u001b[1;32mif\u001b[0m \u001b[0mself\u001b[0m\u001b[1;33m.\u001b[0m\u001b[0mdispatch_one_batch\u001b[0m\u001b[1;33m(\u001b[0m\u001b[0miterator\u001b[0m\u001b[1;33m)\u001b[0m\u001b[1;33m:\u001b[0m\u001b[1;33m\u001b[0m\u001b[1;33m\u001b[0m\u001b[0m\n\u001b[0m\u001b[0;32m    922\u001b[0m                 \u001b[0mself\u001b[0m\u001b[1;33m.\u001b[0m\u001b[0m_iterating\u001b[0m \u001b[1;33m=\u001b[0m \u001b[0mself\u001b[0m\u001b[1;33m.\u001b[0m\u001b[0m_original_iterator\u001b[0m \u001b[1;32mis\u001b[0m \u001b[1;32mnot\u001b[0m \u001b[1;32mNone\u001b[0m\u001b[1;33m\u001b[0m\u001b[1;33m\u001b[0m\u001b[0m\n\u001b[0;32m    923\u001b[0m \u001b[1;33m\u001b[0m\u001b[0m\n",
      "\u001b[1;32m~\\anaconda3\\envs\\learn-env\\lib\\site-packages\\joblib\\parallel.py\u001b[0m in \u001b[0;36mdispatch_one_batch\u001b[1;34m(self, iterator)\u001b[0m\n\u001b[0;32m    757\u001b[0m                 \u001b[1;32mreturn\u001b[0m \u001b[1;32mFalse\u001b[0m\u001b[1;33m\u001b[0m\u001b[1;33m\u001b[0m\u001b[0m\n\u001b[0;32m    758\u001b[0m             \u001b[1;32melse\u001b[0m\u001b[1;33m:\u001b[0m\u001b[1;33m\u001b[0m\u001b[1;33m\u001b[0m\u001b[0m\n\u001b[1;32m--> 759\u001b[1;33m                 \u001b[0mself\u001b[0m\u001b[1;33m.\u001b[0m\u001b[0m_dispatch\u001b[0m\u001b[1;33m(\u001b[0m\u001b[0mtasks\u001b[0m\u001b[1;33m)\u001b[0m\u001b[1;33m\u001b[0m\u001b[1;33m\u001b[0m\u001b[0m\n\u001b[0m\u001b[0;32m    760\u001b[0m                 \u001b[1;32mreturn\u001b[0m \u001b[1;32mTrue\u001b[0m\u001b[1;33m\u001b[0m\u001b[1;33m\u001b[0m\u001b[0m\n\u001b[0;32m    761\u001b[0m \u001b[1;33m\u001b[0m\u001b[0m\n",
      "\u001b[1;32m~\\anaconda3\\envs\\learn-env\\lib\\site-packages\\joblib\\parallel.py\u001b[0m in \u001b[0;36m_dispatch\u001b[1;34m(self, batch)\u001b[0m\n\u001b[0;32m    714\u001b[0m         \u001b[1;32mwith\u001b[0m \u001b[0mself\u001b[0m\u001b[1;33m.\u001b[0m\u001b[0m_lock\u001b[0m\u001b[1;33m:\u001b[0m\u001b[1;33m\u001b[0m\u001b[1;33m\u001b[0m\u001b[0m\n\u001b[0;32m    715\u001b[0m             \u001b[0mjob_idx\u001b[0m \u001b[1;33m=\u001b[0m \u001b[0mlen\u001b[0m\u001b[1;33m(\u001b[0m\u001b[0mself\u001b[0m\u001b[1;33m.\u001b[0m\u001b[0m_jobs\u001b[0m\u001b[1;33m)\u001b[0m\u001b[1;33m\u001b[0m\u001b[1;33m\u001b[0m\u001b[0m\n\u001b[1;32m--> 716\u001b[1;33m             \u001b[0mjob\u001b[0m \u001b[1;33m=\u001b[0m \u001b[0mself\u001b[0m\u001b[1;33m.\u001b[0m\u001b[0m_backend\u001b[0m\u001b[1;33m.\u001b[0m\u001b[0mapply_async\u001b[0m\u001b[1;33m(\u001b[0m\u001b[0mbatch\u001b[0m\u001b[1;33m,\u001b[0m \u001b[0mcallback\u001b[0m\u001b[1;33m=\u001b[0m\u001b[0mcb\u001b[0m\u001b[1;33m)\u001b[0m\u001b[1;33m\u001b[0m\u001b[1;33m\u001b[0m\u001b[0m\n\u001b[0m\u001b[0;32m    717\u001b[0m             \u001b[1;31m# A job can complete so quickly than its callback is\u001b[0m\u001b[1;33m\u001b[0m\u001b[1;33m\u001b[0m\u001b[1;33m\u001b[0m\u001b[0m\n\u001b[0;32m    718\u001b[0m             \u001b[1;31m# called before we get here, causing self._jobs to\u001b[0m\u001b[1;33m\u001b[0m\u001b[1;33m\u001b[0m\u001b[1;33m\u001b[0m\u001b[0m\n",
      "\u001b[1;32m~\\anaconda3\\envs\\learn-env\\lib\\site-packages\\joblib\\_parallel_backends.py\u001b[0m in \u001b[0;36mapply_async\u001b[1;34m(self, func, callback)\u001b[0m\n\u001b[0;32m    180\u001b[0m     \u001b[1;32mdef\u001b[0m \u001b[0mapply_async\u001b[0m\u001b[1;33m(\u001b[0m\u001b[0mself\u001b[0m\u001b[1;33m,\u001b[0m \u001b[0mfunc\u001b[0m\u001b[1;33m,\u001b[0m \u001b[0mcallback\u001b[0m\u001b[1;33m=\u001b[0m\u001b[1;32mNone\u001b[0m\u001b[1;33m)\u001b[0m\u001b[1;33m:\u001b[0m\u001b[1;33m\u001b[0m\u001b[1;33m\u001b[0m\u001b[0m\n\u001b[0;32m    181\u001b[0m         \u001b[1;34m\"\"\"Schedule a func to be run\"\"\"\u001b[0m\u001b[1;33m\u001b[0m\u001b[1;33m\u001b[0m\u001b[0m\n\u001b[1;32m--> 182\u001b[1;33m         \u001b[0mresult\u001b[0m \u001b[1;33m=\u001b[0m \u001b[0mImmediateResult\u001b[0m\u001b[1;33m(\u001b[0m\u001b[0mfunc\u001b[0m\u001b[1;33m)\u001b[0m\u001b[1;33m\u001b[0m\u001b[1;33m\u001b[0m\u001b[0m\n\u001b[0m\u001b[0;32m    183\u001b[0m         \u001b[1;32mif\u001b[0m \u001b[0mcallback\u001b[0m\u001b[1;33m:\u001b[0m\u001b[1;33m\u001b[0m\u001b[1;33m\u001b[0m\u001b[0m\n\u001b[0;32m    184\u001b[0m             \u001b[0mcallback\u001b[0m\u001b[1;33m(\u001b[0m\u001b[0mresult\u001b[0m\u001b[1;33m)\u001b[0m\u001b[1;33m\u001b[0m\u001b[1;33m\u001b[0m\u001b[0m\n",
      "\u001b[1;32m~\\anaconda3\\envs\\learn-env\\lib\\site-packages\\joblib\\_parallel_backends.py\u001b[0m in \u001b[0;36m__init__\u001b[1;34m(self, batch)\u001b[0m\n\u001b[0;32m    547\u001b[0m         \u001b[1;31m# Don't delay the application, to avoid keeping the input\u001b[0m\u001b[1;33m\u001b[0m\u001b[1;33m\u001b[0m\u001b[1;33m\u001b[0m\u001b[0m\n\u001b[0;32m    548\u001b[0m         \u001b[1;31m# arguments in memory\u001b[0m\u001b[1;33m\u001b[0m\u001b[1;33m\u001b[0m\u001b[1;33m\u001b[0m\u001b[0m\n\u001b[1;32m--> 549\u001b[1;33m         \u001b[0mself\u001b[0m\u001b[1;33m.\u001b[0m\u001b[0mresults\u001b[0m \u001b[1;33m=\u001b[0m \u001b[0mbatch\u001b[0m\u001b[1;33m(\u001b[0m\u001b[1;33m)\u001b[0m\u001b[1;33m\u001b[0m\u001b[1;33m\u001b[0m\u001b[0m\n\u001b[0m\u001b[0;32m    550\u001b[0m \u001b[1;33m\u001b[0m\u001b[0m\n\u001b[0;32m    551\u001b[0m     \u001b[1;32mdef\u001b[0m \u001b[0mget\u001b[0m\u001b[1;33m(\u001b[0m\u001b[0mself\u001b[0m\u001b[1;33m)\u001b[0m\u001b[1;33m:\u001b[0m\u001b[1;33m\u001b[0m\u001b[1;33m\u001b[0m\u001b[0m\n",
      "\u001b[1;32m~\\anaconda3\\envs\\learn-env\\lib\\site-packages\\joblib\\parallel.py\u001b[0m in \u001b[0;36m__call__\u001b[1;34m(self)\u001b[0m\n\u001b[0;32m    223\u001b[0m         \u001b[1;32mwith\u001b[0m \u001b[0mparallel_backend\u001b[0m\u001b[1;33m(\u001b[0m\u001b[0mself\u001b[0m\u001b[1;33m.\u001b[0m\u001b[0m_backend\u001b[0m\u001b[1;33m,\u001b[0m \u001b[0mn_jobs\u001b[0m\u001b[1;33m=\u001b[0m\u001b[0mself\u001b[0m\u001b[1;33m.\u001b[0m\u001b[0m_n_jobs\u001b[0m\u001b[1;33m)\u001b[0m\u001b[1;33m:\u001b[0m\u001b[1;33m\u001b[0m\u001b[1;33m\u001b[0m\u001b[0m\n\u001b[0;32m    224\u001b[0m             return [func(*args, **kwargs)\n\u001b[1;32m--> 225\u001b[1;33m                     for func, args, kwargs in self.items]\n\u001b[0m\u001b[0;32m    226\u001b[0m \u001b[1;33m\u001b[0m\u001b[0m\n\u001b[0;32m    227\u001b[0m     \u001b[1;32mdef\u001b[0m \u001b[0m__len__\u001b[0m\u001b[1;33m(\u001b[0m\u001b[0mself\u001b[0m\u001b[1;33m)\u001b[0m\u001b[1;33m:\u001b[0m\u001b[1;33m\u001b[0m\u001b[1;33m\u001b[0m\u001b[0m\n",
      "\u001b[1;32m~\\anaconda3\\envs\\learn-env\\lib\\site-packages\\joblib\\parallel.py\u001b[0m in \u001b[0;36m<listcomp>\u001b[1;34m(.0)\u001b[0m\n\u001b[0;32m    223\u001b[0m         \u001b[1;32mwith\u001b[0m \u001b[0mparallel_backend\u001b[0m\u001b[1;33m(\u001b[0m\u001b[0mself\u001b[0m\u001b[1;33m.\u001b[0m\u001b[0m_backend\u001b[0m\u001b[1;33m,\u001b[0m \u001b[0mn_jobs\u001b[0m\u001b[1;33m=\u001b[0m\u001b[0mself\u001b[0m\u001b[1;33m.\u001b[0m\u001b[0m_n_jobs\u001b[0m\u001b[1;33m)\u001b[0m\u001b[1;33m:\u001b[0m\u001b[1;33m\u001b[0m\u001b[1;33m\u001b[0m\u001b[0m\n\u001b[0;32m    224\u001b[0m             return [func(*args, **kwargs)\n\u001b[1;32m--> 225\u001b[1;33m                     for func, args, kwargs in self.items]\n\u001b[0m\u001b[0;32m    226\u001b[0m \u001b[1;33m\u001b[0m\u001b[0m\n\u001b[0;32m    227\u001b[0m     \u001b[1;32mdef\u001b[0m \u001b[0m__len__\u001b[0m\u001b[1;33m(\u001b[0m\u001b[0mself\u001b[0m\u001b[1;33m)\u001b[0m\u001b[1;33m:\u001b[0m\u001b[1;33m\u001b[0m\u001b[1;33m\u001b[0m\u001b[0m\n",
      "\u001b[1;32m~\\anaconda3\\envs\\learn-env\\lib\\site-packages\\sklearn\\linear_model\\_logistic.py\u001b[0m in \u001b[0;36m_logistic_regression_path\u001b[1;34m(X, y, pos_class, Cs, fit_intercept, max_iter, tol, verbose, solver, coef, class_weight, dual, penalty, intercept_scaling, multi_class, random_state, check_input, max_squared_sum, sample_weight, l1_ratio)\u001b[0m\n\u001b[0;32m    758\u001b[0m                 \u001b[0mfunc\u001b[0m\u001b[1;33m,\u001b[0m \u001b[0mw0\u001b[0m\u001b[1;33m,\u001b[0m \u001b[0mmethod\u001b[0m\u001b[1;33m=\u001b[0m\u001b[1;34m\"L-BFGS-B\"\u001b[0m\u001b[1;33m,\u001b[0m \u001b[0mjac\u001b[0m\u001b[1;33m=\u001b[0m\u001b[1;32mTrue\u001b[0m\u001b[1;33m,\u001b[0m\u001b[1;33m\u001b[0m\u001b[1;33m\u001b[0m\u001b[0m\n\u001b[0;32m    759\u001b[0m                 \u001b[0margs\u001b[0m\u001b[1;33m=\u001b[0m\u001b[1;33m(\u001b[0m\u001b[0mX\u001b[0m\u001b[1;33m,\u001b[0m \u001b[0mtarget\u001b[0m\u001b[1;33m,\u001b[0m \u001b[1;36m1.\u001b[0m \u001b[1;33m/\u001b[0m \u001b[0mC\u001b[0m\u001b[1;33m,\u001b[0m \u001b[0msample_weight\u001b[0m\u001b[1;33m)\u001b[0m\u001b[1;33m,\u001b[0m\u001b[1;33m\u001b[0m\u001b[1;33m\u001b[0m\u001b[0m\n\u001b[1;32m--> 760\u001b[1;33m                 \u001b[0moptions\u001b[0m\u001b[1;33m=\u001b[0m\u001b[1;33m{\u001b[0m\u001b[1;34m\"iprint\"\u001b[0m\u001b[1;33m:\u001b[0m \u001b[0miprint\u001b[0m\u001b[1;33m,\u001b[0m \u001b[1;34m\"gtol\"\u001b[0m\u001b[1;33m:\u001b[0m \u001b[0mtol\u001b[0m\u001b[1;33m,\u001b[0m \u001b[1;34m\"maxiter\"\u001b[0m\u001b[1;33m:\u001b[0m \u001b[0mmax_iter\u001b[0m\u001b[1;33m}\u001b[0m\u001b[1;33m\u001b[0m\u001b[1;33m\u001b[0m\u001b[0m\n\u001b[0m\u001b[0;32m    761\u001b[0m             )\n\u001b[0;32m    762\u001b[0m             n_iter_i = _check_optimize_result(\n",
      "\u001b[1;32m~\\anaconda3\\envs\\learn-env\\lib\\site-packages\\scipy\\optimize\\_minimize.py\u001b[0m in \u001b[0;36mminimize\u001b[1;34m(fun, x0, args, method, jac, hess, hessp, bounds, constraints, tol, callback, options)\u001b[0m\n\u001b[0;32m    598\u001b[0m     \u001b[1;32melif\u001b[0m \u001b[0mmeth\u001b[0m \u001b[1;33m==\u001b[0m \u001b[1;34m'l-bfgs-b'\u001b[0m\u001b[1;33m:\u001b[0m\u001b[1;33m\u001b[0m\u001b[1;33m\u001b[0m\u001b[0m\n\u001b[0;32m    599\u001b[0m         return _minimize_lbfgsb(fun, x0, args, jac, bounds,\n\u001b[1;32m--> 600\u001b[1;33m                                 callback=callback, **options)\n\u001b[0m\u001b[0;32m    601\u001b[0m     \u001b[1;32melif\u001b[0m \u001b[0mmeth\u001b[0m \u001b[1;33m==\u001b[0m \u001b[1;34m'tnc'\u001b[0m\u001b[1;33m:\u001b[0m\u001b[1;33m\u001b[0m\u001b[1;33m\u001b[0m\u001b[0m\n\u001b[0;32m    602\u001b[0m         return _minimize_tnc(fun, x0, args, jac, bounds, callback=callback,\n",
      "\u001b[1;32m~\\anaconda3\\envs\\learn-env\\lib\\site-packages\\scipy\\optimize\\lbfgsb.py\u001b[0m in \u001b[0;36m_minimize_lbfgsb\u001b[1;34m(fun, x0, args, jac, bounds, disp, maxcor, ftol, gtol, eps, maxfun, maxiter, iprint, callback, maxls, **unknown_options)\u001b[0m\n\u001b[0;32m    333\u001b[0m             \u001b[1;31m# until the completion of the current minimization iteration.\u001b[0m\u001b[1;33m\u001b[0m\u001b[1;33m\u001b[0m\u001b[1;33m\u001b[0m\u001b[0m\n\u001b[0;32m    334\u001b[0m             \u001b[1;31m# Overwrite f and g:\u001b[0m\u001b[1;33m\u001b[0m\u001b[1;33m\u001b[0m\u001b[1;33m\u001b[0m\u001b[0m\n\u001b[1;32m--> 335\u001b[1;33m             \u001b[0mf\u001b[0m\u001b[1;33m,\u001b[0m \u001b[0mg\u001b[0m \u001b[1;33m=\u001b[0m \u001b[0mfunc_and_grad\u001b[0m\u001b[1;33m(\u001b[0m\u001b[0mx\u001b[0m\u001b[1;33m)\u001b[0m\u001b[1;33m\u001b[0m\u001b[1;33m\u001b[0m\u001b[0m\n\u001b[0m\u001b[0;32m    336\u001b[0m         \u001b[1;32melif\u001b[0m \u001b[0mtask_str\u001b[0m\u001b[1;33m.\u001b[0m\u001b[0mstartswith\u001b[0m\u001b[1;33m(\u001b[0m\u001b[1;34mb'NEW_X'\u001b[0m\u001b[1;33m)\u001b[0m\u001b[1;33m:\u001b[0m\u001b[1;33m\u001b[0m\u001b[1;33m\u001b[0m\u001b[0m\n\u001b[0;32m    337\u001b[0m             \u001b[1;31m# new iteration\u001b[0m\u001b[1;33m\u001b[0m\u001b[1;33m\u001b[0m\u001b[1;33m\u001b[0m\u001b[0m\n",
      "\u001b[1;32m~\\anaconda3\\envs\\learn-env\\lib\\site-packages\\scipy\\optimize\\lbfgsb.py\u001b[0m in \u001b[0;36mfunc_and_grad\u001b[1;34m(x)\u001b[0m\n\u001b[0;32m    283\u001b[0m     \u001b[1;32melse\u001b[0m\u001b[1;33m:\u001b[0m\u001b[1;33m\u001b[0m\u001b[1;33m\u001b[0m\u001b[0m\n\u001b[0;32m    284\u001b[0m         \u001b[1;32mdef\u001b[0m \u001b[0mfunc_and_grad\u001b[0m\u001b[1;33m(\u001b[0m\u001b[0mx\u001b[0m\u001b[1;33m)\u001b[0m\u001b[1;33m:\u001b[0m\u001b[1;33m\u001b[0m\u001b[1;33m\u001b[0m\u001b[0m\n\u001b[1;32m--> 285\u001b[1;33m             \u001b[0mf\u001b[0m \u001b[1;33m=\u001b[0m \u001b[0mfun\u001b[0m\u001b[1;33m(\u001b[0m\u001b[0mx\u001b[0m\u001b[1;33m,\u001b[0m \u001b[1;33m*\u001b[0m\u001b[0margs\u001b[0m\u001b[1;33m)\u001b[0m\u001b[1;33m\u001b[0m\u001b[1;33m\u001b[0m\u001b[0m\n\u001b[0m\u001b[0;32m    286\u001b[0m             \u001b[0mg\u001b[0m \u001b[1;33m=\u001b[0m \u001b[0mjac\u001b[0m\u001b[1;33m(\u001b[0m\u001b[0mx\u001b[0m\u001b[1;33m,\u001b[0m \u001b[1;33m*\u001b[0m\u001b[0margs\u001b[0m\u001b[1;33m)\u001b[0m\u001b[1;33m\u001b[0m\u001b[1;33m\u001b[0m\u001b[0m\n\u001b[0;32m    287\u001b[0m             \u001b[1;32mreturn\u001b[0m \u001b[0mf\u001b[0m\u001b[1;33m,\u001b[0m \u001b[0mg\u001b[0m\u001b[1;33m\u001b[0m\u001b[1;33m\u001b[0m\u001b[0m\n",
      "\u001b[1;32m~\\anaconda3\\envs\\learn-env\\lib\\site-packages\\scipy\\optimize\\optimize.py\u001b[0m in \u001b[0;36mfunction_wrapper\u001b[1;34m(*wrapper_args)\u001b[0m\n\u001b[0;32m    324\u001b[0m     \u001b[1;32mdef\u001b[0m \u001b[0mfunction_wrapper\u001b[0m\u001b[1;33m(\u001b[0m\u001b[1;33m*\u001b[0m\u001b[0mwrapper_args\u001b[0m\u001b[1;33m)\u001b[0m\u001b[1;33m:\u001b[0m\u001b[1;33m\u001b[0m\u001b[1;33m\u001b[0m\u001b[0m\n\u001b[0;32m    325\u001b[0m         \u001b[0mncalls\u001b[0m\u001b[1;33m[\u001b[0m\u001b[1;36m0\u001b[0m\u001b[1;33m]\u001b[0m \u001b[1;33m+=\u001b[0m \u001b[1;36m1\u001b[0m\u001b[1;33m\u001b[0m\u001b[1;33m\u001b[0m\u001b[0m\n\u001b[1;32m--> 326\u001b[1;33m         \u001b[1;32mreturn\u001b[0m \u001b[0mfunction\u001b[0m\u001b[1;33m(\u001b[0m\u001b[1;33m*\u001b[0m\u001b[1;33m(\u001b[0m\u001b[0mwrapper_args\u001b[0m \u001b[1;33m+\u001b[0m \u001b[0margs\u001b[0m\u001b[1;33m)\u001b[0m\u001b[1;33m)\u001b[0m\u001b[1;33m\u001b[0m\u001b[1;33m\u001b[0m\u001b[0m\n\u001b[0m\u001b[0;32m    327\u001b[0m \u001b[1;33m\u001b[0m\u001b[0m\n\u001b[0;32m    328\u001b[0m     \u001b[1;32mreturn\u001b[0m \u001b[0mncalls\u001b[0m\u001b[1;33m,\u001b[0m \u001b[0mfunction_wrapper\u001b[0m\u001b[1;33m\u001b[0m\u001b[1;33m\u001b[0m\u001b[0m\n",
      "\u001b[1;32m~\\anaconda3\\envs\\learn-env\\lib\\site-packages\\scipy\\optimize\\optimize.py\u001b[0m in \u001b[0;36m__call__\u001b[1;34m(self, x, *args)\u001b[0m\n\u001b[0;32m     62\u001b[0m     \u001b[1;32mdef\u001b[0m \u001b[0m__call__\u001b[0m\u001b[1;33m(\u001b[0m\u001b[0mself\u001b[0m\u001b[1;33m,\u001b[0m \u001b[0mx\u001b[0m\u001b[1;33m,\u001b[0m \u001b[1;33m*\u001b[0m\u001b[0margs\u001b[0m\u001b[1;33m)\u001b[0m\u001b[1;33m:\u001b[0m\u001b[1;33m\u001b[0m\u001b[1;33m\u001b[0m\u001b[0m\n\u001b[0;32m     63\u001b[0m         \u001b[0mself\u001b[0m\u001b[1;33m.\u001b[0m\u001b[0mx\u001b[0m \u001b[1;33m=\u001b[0m \u001b[0mnumpy\u001b[0m\u001b[1;33m.\u001b[0m\u001b[0masarray\u001b[0m\u001b[1;33m(\u001b[0m\u001b[0mx\u001b[0m\u001b[1;33m)\u001b[0m\u001b[1;33m.\u001b[0m\u001b[0mcopy\u001b[0m\u001b[1;33m(\u001b[0m\u001b[1;33m)\u001b[0m\u001b[1;33m\u001b[0m\u001b[1;33m\u001b[0m\u001b[0m\n\u001b[1;32m---> 64\u001b[1;33m         \u001b[0mfg\u001b[0m \u001b[1;33m=\u001b[0m \u001b[0mself\u001b[0m\u001b[1;33m.\u001b[0m\u001b[0mfun\u001b[0m\u001b[1;33m(\u001b[0m\u001b[0mx\u001b[0m\u001b[1;33m,\u001b[0m \u001b[1;33m*\u001b[0m\u001b[0margs\u001b[0m\u001b[1;33m)\u001b[0m\u001b[1;33m\u001b[0m\u001b[1;33m\u001b[0m\u001b[0m\n\u001b[0m\u001b[0;32m     65\u001b[0m         \u001b[0mself\u001b[0m\u001b[1;33m.\u001b[0m\u001b[0mjac\u001b[0m \u001b[1;33m=\u001b[0m \u001b[0mfg\u001b[0m\u001b[1;33m[\u001b[0m\u001b[1;36m1\u001b[0m\u001b[1;33m]\u001b[0m\u001b[1;33m\u001b[0m\u001b[1;33m\u001b[0m\u001b[0m\n\u001b[0;32m     66\u001b[0m         \u001b[1;32mreturn\u001b[0m \u001b[0mfg\u001b[0m\u001b[1;33m[\u001b[0m\u001b[1;36m0\u001b[0m\u001b[1;33m]\u001b[0m\u001b[1;33m\u001b[0m\u001b[1;33m\u001b[0m\u001b[0m\n",
      "\u001b[1;32m~\\anaconda3\\envs\\learn-env\\lib\\site-packages\\sklearn\\linear_model\\_logistic.py\u001b[0m in \u001b[0;36mfunc\u001b[1;34m(x, *args)\u001b[0m\n\u001b[0;32m    733\u001b[0m         \u001b[0mtarget\u001b[0m \u001b[1;33m=\u001b[0m \u001b[0mY_multi\u001b[0m\u001b[1;33m\u001b[0m\u001b[1;33m\u001b[0m\u001b[0m\n\u001b[0;32m    734\u001b[0m         \u001b[1;32mif\u001b[0m \u001b[0msolver\u001b[0m \u001b[1;33m==\u001b[0m \u001b[1;34m'lbfgs'\u001b[0m\u001b[1;33m:\u001b[0m\u001b[1;33m\u001b[0m\u001b[1;33m\u001b[0m\u001b[0m\n\u001b[1;32m--> 735\u001b[1;33m             \u001b[1;32mdef\u001b[0m \u001b[0mfunc\u001b[0m\u001b[1;33m(\u001b[0m\u001b[0mx\u001b[0m\u001b[1;33m,\u001b[0m \u001b[1;33m*\u001b[0m\u001b[0margs\u001b[0m\u001b[1;33m)\u001b[0m\u001b[1;33m:\u001b[0m \u001b[1;32mreturn\u001b[0m \u001b[0m_multinomial_loss_grad\u001b[0m\u001b[1;33m(\u001b[0m\u001b[0mx\u001b[0m\u001b[1;33m,\u001b[0m \u001b[1;33m*\u001b[0m\u001b[0margs\u001b[0m\u001b[1;33m)\u001b[0m\u001b[1;33m[\u001b[0m\u001b[1;36m0\u001b[0m\u001b[1;33m:\u001b[0m\u001b[1;36m2\u001b[0m\u001b[1;33m]\u001b[0m\u001b[1;33m\u001b[0m\u001b[1;33m\u001b[0m\u001b[0m\n\u001b[0m\u001b[0;32m    736\u001b[0m         \u001b[1;32melif\u001b[0m \u001b[0msolver\u001b[0m \u001b[1;33m==\u001b[0m \u001b[1;34m'newton-cg'\u001b[0m\u001b[1;33m:\u001b[0m\u001b[1;33m\u001b[0m\u001b[1;33m\u001b[0m\u001b[0m\n\u001b[0;32m    737\u001b[0m             \u001b[1;32mdef\u001b[0m \u001b[0mfunc\u001b[0m\u001b[1;33m(\u001b[0m\u001b[0mx\u001b[0m\u001b[1;33m,\u001b[0m \u001b[1;33m*\u001b[0m\u001b[0margs\u001b[0m\u001b[1;33m)\u001b[0m\u001b[1;33m:\u001b[0m \u001b[1;32mreturn\u001b[0m \u001b[0m_multinomial_loss\u001b[0m\u001b[1;33m(\u001b[0m\u001b[0mx\u001b[0m\u001b[1;33m,\u001b[0m \u001b[1;33m*\u001b[0m\u001b[0margs\u001b[0m\u001b[1;33m)\u001b[0m\u001b[1;33m[\u001b[0m\u001b[1;36m0\u001b[0m\u001b[1;33m]\u001b[0m\u001b[1;33m\u001b[0m\u001b[1;33m\u001b[0m\u001b[0m\n",
      "\u001b[1;32m~\\anaconda3\\envs\\learn-env\\lib\\site-packages\\sklearn\\linear_model\\_logistic.py\u001b[0m in \u001b[0;36m_multinomial_loss_grad\u001b[1;34m(w, X, Y, alpha, sample_weight)\u001b[0m\n\u001b[0;32m    345\u001b[0m     grad = np.zeros((n_classes, n_features + bool(fit_intercept)),\n\u001b[0;32m    346\u001b[0m                     dtype=X.dtype)\n\u001b[1;32m--> 347\u001b[1;33m     \u001b[0mloss\u001b[0m\u001b[1;33m,\u001b[0m \u001b[0mp\u001b[0m\u001b[1;33m,\u001b[0m \u001b[0mw\u001b[0m \u001b[1;33m=\u001b[0m \u001b[0m_multinomial_loss\u001b[0m\u001b[1;33m(\u001b[0m\u001b[0mw\u001b[0m\u001b[1;33m,\u001b[0m \u001b[0mX\u001b[0m\u001b[1;33m,\u001b[0m \u001b[0mY\u001b[0m\u001b[1;33m,\u001b[0m \u001b[0malpha\u001b[0m\u001b[1;33m,\u001b[0m \u001b[0msample_weight\u001b[0m\u001b[1;33m)\u001b[0m\u001b[1;33m\u001b[0m\u001b[1;33m\u001b[0m\u001b[0m\n\u001b[0m\u001b[0;32m    348\u001b[0m     \u001b[0msample_weight\u001b[0m \u001b[1;33m=\u001b[0m \u001b[0msample_weight\u001b[0m\u001b[1;33m[\u001b[0m\u001b[1;33m:\u001b[0m\u001b[1;33m,\u001b[0m \u001b[0mnp\u001b[0m\u001b[1;33m.\u001b[0m\u001b[0mnewaxis\u001b[0m\u001b[1;33m]\u001b[0m\u001b[1;33m\u001b[0m\u001b[1;33m\u001b[0m\u001b[0m\n\u001b[0;32m    349\u001b[0m     \u001b[0mdiff\u001b[0m \u001b[1;33m=\u001b[0m \u001b[0msample_weight\u001b[0m \u001b[1;33m*\u001b[0m \u001b[1;33m(\u001b[0m\u001b[0mp\u001b[0m \u001b[1;33m-\u001b[0m \u001b[0mY\u001b[0m\u001b[1;33m)\u001b[0m\u001b[1;33m\u001b[0m\u001b[1;33m\u001b[0m\u001b[0m\n",
      "\u001b[1;32m~\\anaconda3\\envs\\learn-env\\lib\\site-packages\\sklearn\\linear_model\\_logistic.py\u001b[0m in \u001b[0;36m_multinomial_loss\u001b[1;34m(w, X, Y, alpha, sample_weight)\u001b[0m\n\u001b[0;32m    295\u001b[0m     \u001b[0mp\u001b[0m \u001b[1;33m=\u001b[0m \u001b[0msafe_sparse_dot\u001b[0m\u001b[1;33m(\u001b[0m\u001b[0mX\u001b[0m\u001b[1;33m,\u001b[0m \u001b[0mw\u001b[0m\u001b[1;33m.\u001b[0m\u001b[0mT\u001b[0m\u001b[1;33m)\u001b[0m\u001b[1;33m\u001b[0m\u001b[1;33m\u001b[0m\u001b[0m\n\u001b[0;32m    296\u001b[0m     \u001b[0mp\u001b[0m \u001b[1;33m+=\u001b[0m \u001b[0mintercept\u001b[0m\u001b[1;33m\u001b[0m\u001b[1;33m\u001b[0m\u001b[0m\n\u001b[1;32m--> 297\u001b[1;33m     \u001b[0mp\u001b[0m \u001b[1;33m-=\u001b[0m \u001b[0mlogsumexp\u001b[0m\u001b[1;33m(\u001b[0m\u001b[0mp\u001b[0m\u001b[1;33m,\u001b[0m \u001b[0maxis\u001b[0m\u001b[1;33m=\u001b[0m\u001b[1;36m1\u001b[0m\u001b[1;33m)\u001b[0m\u001b[1;33m[\u001b[0m\u001b[1;33m:\u001b[0m\u001b[1;33m,\u001b[0m \u001b[0mnp\u001b[0m\u001b[1;33m.\u001b[0m\u001b[0mnewaxis\u001b[0m\u001b[1;33m]\u001b[0m\u001b[1;33m\u001b[0m\u001b[1;33m\u001b[0m\u001b[0m\n\u001b[0m\u001b[0;32m    298\u001b[0m     \u001b[0mloss\u001b[0m \u001b[1;33m=\u001b[0m \u001b[1;33m-\u001b[0m\u001b[1;33m(\u001b[0m\u001b[0msample_weight\u001b[0m \u001b[1;33m*\u001b[0m \u001b[0mY\u001b[0m \u001b[1;33m*\u001b[0m \u001b[0mp\u001b[0m\u001b[1;33m)\u001b[0m\u001b[1;33m.\u001b[0m\u001b[0msum\u001b[0m\u001b[1;33m(\u001b[0m\u001b[1;33m)\u001b[0m\u001b[1;33m\u001b[0m\u001b[1;33m\u001b[0m\u001b[0m\n\u001b[0;32m    299\u001b[0m     \u001b[0mloss\u001b[0m \u001b[1;33m+=\u001b[0m \u001b[1;36m0.5\u001b[0m \u001b[1;33m*\u001b[0m \u001b[0malpha\u001b[0m \u001b[1;33m*\u001b[0m \u001b[0msquared_norm\u001b[0m\u001b[1;33m(\u001b[0m\u001b[0mw\u001b[0m\u001b[1;33m)\u001b[0m\u001b[1;33m\u001b[0m\u001b[1;33m\u001b[0m\u001b[0m\n",
      "\u001b[1;32m~\\anaconda3\\envs\\learn-env\\lib\\site-packages\\scipy\\special\\_logsumexp.py\u001b[0m in \u001b[0;36mlogsumexp\u001b[1;34m(a, axis, b, keepdims, return_sign)\u001b[0m\n\u001b[0;32m    110\u001b[0m         \u001b[0mtmp\u001b[0m \u001b[1;33m=\u001b[0m \u001b[0mb\u001b[0m \u001b[1;33m*\u001b[0m \u001b[0mnp\u001b[0m\u001b[1;33m.\u001b[0m\u001b[0mexp\u001b[0m\u001b[1;33m(\u001b[0m\u001b[0ma\u001b[0m \u001b[1;33m-\u001b[0m \u001b[0ma_max\u001b[0m\u001b[1;33m)\u001b[0m\u001b[1;33m\u001b[0m\u001b[1;33m\u001b[0m\u001b[0m\n\u001b[0;32m    111\u001b[0m     \u001b[1;32melse\u001b[0m\u001b[1;33m:\u001b[0m\u001b[1;33m\u001b[0m\u001b[1;33m\u001b[0m\u001b[0m\n\u001b[1;32m--> 112\u001b[1;33m         \u001b[0mtmp\u001b[0m \u001b[1;33m=\u001b[0m \u001b[0mnp\u001b[0m\u001b[1;33m.\u001b[0m\u001b[0mexp\u001b[0m\u001b[1;33m(\u001b[0m\u001b[0ma\u001b[0m \u001b[1;33m-\u001b[0m \u001b[0ma_max\u001b[0m\u001b[1;33m)\u001b[0m\u001b[1;33m\u001b[0m\u001b[1;33m\u001b[0m\u001b[0m\n\u001b[0m\u001b[0;32m    113\u001b[0m \u001b[1;33m\u001b[0m\u001b[0m\n\u001b[0;32m    114\u001b[0m     \u001b[1;31m# suppress warnings about log of zero\u001b[0m\u001b[1;33m\u001b[0m\u001b[1;33m\u001b[0m\u001b[1;33m\u001b[0m\u001b[0m\n",
      "\u001b[1;31mKeyboardInterrupt\u001b[0m: "
     ]
    }
   ],
   "source": [
    "weights = [None, 'balanced', {1:2, 0:1, 1:10}, {1:10, 0:1, 1:100}, {1:100, 0:1, 1:1000}, {1:1000, 0:1, 1:10000}]\n",
    "names = ['None', 'Balanced', '2 to 1 to 10', '10 to 1 to 100', '100 to 1 to 1000', '1000 to 1 to 10000']\n",
    "\n",
    "\n",
    "for n, weight in enumerate(weights):\n",
    "    # Fit a model\n",
    "    logreg = LogisticRegression(fit_intercept=False, C=1e20, class_weight=weight, \n",
    "                                multi_class= 'multinomial', solver='lbfgs')\n",
    "    model_log = logreg.fit(X_train_minmax, y_train)\n",
    "    print(model_log)\n",
    "\n",
    "    # Predict\n",
    "    y_hat_test = logreg.predict(X_test_minmax)\n",
    "\n",
    "    y_score = logreg.fit(X_train_minmax, y_train).predict_proba(X_test_minmax)\n",
    "\n",
    "    auc = roc_auc_score(y_test, y_score, multi_class = 'ovo')\n",
    "    \n",
    "    print(f'AUC for {names[n]}: {auc}')\n",
    "    print('-------------------------------------------------------------------------------------')"
   ]
  },
  {
   "cell_type": "code",
   "execution_count": null,
   "metadata": {
    "ExecuteTime": {
     "end_time": "2020-08-21T21:04:04.546930Z",
     "start_time": "2020-08-21T21:03:29.142Z"
    }
   },
   "outputs": [],
   "source": [
    "logreg = LogisticRegression(fit_intercept=False, C=1e20, class_weight='balanced', \n",
    "                            multi_class= 'multinomial', solver='lbfgs')\n",
    "model_log = logreg.fit(X_train_minmax, y_train)\n",
    "print(model_log)\n",
    "\n",
    "# Predict\n",
    "y_hat_test = logreg.predict(X_test_minmax)\n",
    "\n",
    "print(classification_report(y_test, y_hat_test, target_names= target_names))\n",
    "\n",
    "# Check the AUC for predictions\n",
    "y_score = knn.fit(X_train_minmax, y_train).predict_proba(X_test_minmax)\n",
    "roc_auc = roc_auc_score(y_test, y_score, multi_class = 'ovo')\n",
    "print(f'\\nAUC is :{auc}')"
   ]
  },
  {
   "cell_type": "markdown",
   "metadata": {},
   "source": [
    "## Smote"
   ]
  },
  {
   "cell_type": "code",
   "execution_count": null,
   "metadata": {
    "ExecuteTime": {
     "end_time": "2020-08-21T21:04:04.550931Z",
     "start_time": "2020-08-21T21:03:29.150Z"
    }
   },
   "outputs": [],
   "source": [
    "from imblearn.over_sampling import SMOTE"
   ]
  },
  {
   "cell_type": "code",
   "execution_count": null,
   "metadata": {
    "ExecuteTime": {
     "end_time": "2020-08-21T21:04:04.554846Z",
     "start_time": "2020-08-21T21:03:29.156Z"
    }
   },
   "outputs": [],
   "source": [
    "smote = SMOTE()\n",
    "X_train_resampled, y_train_resampled = smote.fit_sample(X_train_minmax, y_train) "
   ]
  },
  {
   "cell_type": "code",
   "execution_count": null,
   "metadata": {
    "ExecuteTime": {
     "end_time": "2020-08-21T21:04:04.557666Z",
     "start_time": "2020-08-21T21:03:29.162Z"
    }
   },
   "outputs": [],
   "source": [
    "print(pd.Series(y_train_resampled).value_counts()) "
   ]
  },
  {
   "cell_type": "code",
   "execution_count": null,
   "metadata": {
    "ExecuteTime": {
     "end_time": "2020-08-21T21:04:04.557666Z",
     "start_time": "2020-08-21T21:03:29.167Z"
    }
   },
   "outputs": [],
   "source": [
    "C_param_range = [0.005, 0.1, 0.2, 0.5, 0.8, 1, 1.25, 1.5, 2, 1e13]\n",
    "names = [0.005, 0.1, 0.2, 0.5, 0.8, 1, 1.25, 1.5, 2, 1e13]\n",
    "\n",
    "for n, c in enumerate(C_param_range):\n",
    "    # Fit a model\n",
    "    logreg = LogisticRegression(fit_intercept=False, C=c, multi_class = 'multinomial', solver='lbfgs')\n",
    "    model_log = logreg.fit(X_train_resampled, y_train_resampled)\n",
    "    print(model_log) # Preview model params\n",
    "\n",
    "    # Predict\n",
    "    y_hat_test = logreg.predict(X_test_minmax)\n",
    "\n",
    "    y_score = logreg.fit(X_train_resampled, y_train_resampled).predict_proba(X_test_minmax)\n",
    "\n",
    "    auc = roc_auc_score(y_test, y_score, multi_class = 'ovo')\n",
    "    \n",
    "    print(f'AUC for {names[n]}: {auc}')\n",
    "    print('-------------------------------------------------------')"
   ]
  },
  {
   "cell_type": "code",
   "execution_count": null,
   "metadata": {
    "ExecuteTime": {
     "end_time": "2020-08-21T21:04:04.561721Z",
     "start_time": "2020-08-21T21:03:29.174Z"
    }
   },
   "outputs": [],
   "source": [
    "    logreg = LogisticRegression(fit_intercept=False, C=1e13, multi_class = 'multinomial', solver='lbfgs')\n",
    "    model_log = logreg.fit(X_train_resampled, y_train_resampled)\n",
    "    \n",
    "    y_hat_test = logreg.predict(X_test_minmax)"
   ]
  },
  {
   "cell_type": "code",
   "execution_count": null,
   "metadata": {
    "ExecuteTime": {
     "end_time": "2020-08-21T21:04:04.564345Z",
     "start_time": "2020-08-21T21:03:29.180Z"
    }
   },
   "outputs": [],
   "source": [
    "print('Test data')\n",
    "print(classification_report(y_test, y_hat_test, target_names= target_names))\n",
    "print(f'AUC: {auc}')"
   ]
  },
  {
   "cell_type": "markdown",
   "metadata": {},
   "source": [
    "# Decision Tree"
   ]
  },
  {
   "cell_type": "markdown",
   "metadata": {},
   "source": [
    "## Initial model"
   ]
  },
  {
   "cell_type": "code",
   "execution_count": null,
   "metadata": {
    "ExecuteTime": {
     "end_time": "2020-08-21T21:04:04.564345Z",
     "start_time": "2020-08-21T21:03:29.186Z"
    }
   },
   "outputs": [],
   "source": [
    "X = df2.drop('status_group',axis=1)\n",
    "y = df2.status_group"
   ]
  },
  {
   "cell_type": "code",
   "execution_count": null,
   "metadata": {
    "ExecuteTime": {
     "end_time": "2020-08-21T21:04:04.569808Z",
     "start_time": "2020-08-21T21:03:29.191Z"
    }
   },
   "outputs": [],
   "source": [
    "X_train, X_test, y_train, y_test = train_test_split(X, y, random_state = 123)"
   ]
  },
  {
   "cell_type": "code",
   "execution_count": null,
   "metadata": {
    "ExecuteTime": {
     "end_time": "2020-08-21T21:04:04.569808Z",
     "start_time": "2020-08-21T21:03:29.196Z"
    }
   },
   "outputs": [],
   "source": [
    "from sklearn.tree import DecisionTreeClassifier \n",
    "clf = DecisionTreeClassifier(criterion='entropy')\n",
    "\n",
    "clf.fit(X_train, y_train)\n",
    "\n",
    "y_pred = clf.predict(X_test)  "
   ]
  },
  {
   "cell_type": "code",
   "execution_count": null,
   "metadata": {
    "ExecuteTime": {
     "end_time": "2020-08-21T21:04:04.574902Z",
     "start_time": "2020-08-21T21:03:29.201Z"
    }
   },
   "outputs": [],
   "source": [
    "from sklearn.metrics import accuracy_score, roc_curve, auc\n",
    "\n",
    "# Look at the classification report\n",
    "print('\\n',classification_report(y_test, y_pred, target_names= target_names))\n",
    "\n",
    "# Check the AUC for predictions\n",
    "y_score = clf.fit(X_train, y_train).predict_proba(X_test)\n",
    "auc = roc_auc_score(y_test, y_score, multi_class = 'ovo')\n",
    "print(f'\\nAUC is :{auc}')\n",
    "\n",
    "\n",
    "# Create and print a confusion matrix \n",
    "print('\\nConfusion Matrix')\n",
    "print('----------------')\n",
    "pd.crosstab(y_test, y_pred, rownames=['True'], colnames=['Predicted'], margins=True)"
   ]
  },
  {
   "cell_type": "code",
   "execution_count": null,
   "metadata": {
    "ExecuteTime": {
     "end_time": "2020-08-21T21:04:04.574902Z",
     "start_time": "2020-08-21T21:03:29.206Z"
    }
   },
   "outputs": [],
   "source": [
    "from sklearn import tree\n",
    "\n",
    "plt.figure(figsize=(12,12), dpi=500)\n",
    "tree.plot_tree(clf, \n",
    "               feature_names=X.columns,\n",
    "               class_names=np.unique(y).astype('str'),\n",
    "               filled=True, rounded=True)\n",
    "plt.show()"
   ]
  },
  {
   "cell_type": "code",
   "execution_count": null,
   "metadata": {
    "ExecuteTime": {
     "end_time": "2020-08-21T21:04:04.580505Z",
     "start_time": "2020-08-21T21:03:29.211Z"
    }
   },
   "outputs": [],
   "source": [
    "\n",
    "def plot_feature_importances(model):\n",
    "    n_features = 10\n",
    "    plt.figure(figsize=(8,8))\n",
    "    plt.barh(range(n_features), np.sort(clf.feature_importances_)[:-11:-1], align='center') \n",
    "    plt.yticks(np.arange(n_features), X_train.columns.values) \n",
    "    plt.xlabel('Feature importance')\n",
    "    plt.ylabel('Feature')\n",
    "\n",
    "plot_feature_importances(clf)\n",
    "\n"
   ]
  },
  {
   "cell_type": "markdown",
   "metadata": {},
   "source": [
    "## Random Forests"
   ]
  },
  {
   "cell_type": "code",
   "execution_count": null,
   "metadata": {
    "ExecuteTime": {
     "end_time": "2020-08-21T21:04:04.583892Z",
     "start_time": "2020-08-21T21:03:29.215Z"
    }
   },
   "outputs": [],
   "source": [
    "from sklearn.ensemble import RandomForestClassifier\n",
    "\n",
    "X = df2.drop('status_group',axis=1)\n",
    "y = df2.status_group\n",
    "\n",
    "X_train, X_test, y_train, y_test = train_test_split(X, y, random_state = 123)\n",
    "\n",
    "forest = RandomForestClassifier(n_estimators=100, max_depth= 10)\n",
    "forest.fit(X_train, y_train)"
   ]
  },
  {
   "cell_type": "code",
   "execution_count": null,
   "metadata": {
    "ExecuteTime": {
     "end_time": "2020-08-21T21:04:04.587474Z",
     "start_time": "2020-08-21T21:03:29.219Z"
    }
   },
   "outputs": [],
   "source": [
    "y_pred = forest.predict(X_test)\n",
    "print(classification_report(y_test, y_pred, target_names= target_names))\n",
    "\n",
    "# Check the AUC for predictions\n",
    "y_score = forest.fit(X_train, y_train).predict_proba(X_test)\n",
    "roc_auc = roc_auc_score(y_test, y_score, multi_class = 'ovo')\n",
    "print(f'\\nAUC is :{auc}')"
   ]
  },
  {
   "cell_type": "markdown",
   "metadata": {
    "ExecuteTime": {
     "end_time": "2020-08-20T02:10:20.558355Z",
     "start_time": "2020-08-20T02:10:20.546679Z"
    }
   },
   "source": [
    "##  Grid search"
   ]
  },
  {
   "cell_type": "code",
   "execution_count": null,
   "metadata": {
    "ExecuteTime": {
     "end_time": "2020-08-21T21:04:04.587474Z",
     "start_time": "2020-08-21T21:03:29.223Z"
    }
   },
   "outputs": [],
   "source": [
    "from sklearn.model_selection import  GridSearchCV"
   ]
  },
  {
   "cell_type": "code",
   "execution_count": null,
   "metadata": {
    "ExecuteTime": {
     "end_time": "2020-08-21T21:04:04.592776Z",
     "start_time": "2020-08-21T21:03:29.226Z"
    }
   },
   "outputs": [],
   "source": [
    "dt_param_grid = {\n",
    "    'criterion': ['gini', 'entropy'],\n",
    "    'max_features' : [20, 30, 40, 50],\n",
    "    'max_depth': [16,17,18,19],\n",
    "    'min_samples_split': [3,4,5,6],\n",
    "    'min_samples_leaf': [1, 2, 3]\n",
    "}"
   ]
  },
  {
   "cell_type": "code",
   "execution_count": null,
   "metadata": {
    "ExecuteTime": {
     "end_time": "2020-08-21T21:04:04.592776Z",
     "start_time": "2020-08-21T21:03:29.230Z"
    }
   },
   "outputs": [],
   "source": [
    "# Instantiate GridSearchCV\n",
    "dt_clf = DecisionTreeClassifier()\n",
    "dt_grid_search = GridSearchCV(dt_clf, dt_param_grid, cv=3, return_train_score=True)\n",
    "\n",
    "# Fit to the data\n",
    "dt_grid_search.fit(X_train, y_train)"
   ]
  },
  {
   "cell_type": "code",
   "execution_count": null,
   "metadata": {
    "ExecuteTime": {
     "end_time": "2020-08-21T21:04:04.596157Z",
     "start_time": "2020-08-21T21:03:29.233Z"
    }
   },
   "outputs": [],
   "source": [
    "dt_grid_search.best_params_"
   ]
  },
  {
   "cell_type": "code",
   "execution_count": null,
   "metadata": {
    "ExecuteTime": {
     "end_time": "2020-08-21T21:04:04.600305Z",
     "start_time": "2020-08-21T21:03:29.236Z"
    }
   },
   "outputs": [],
   "source": [
    "forest = RandomForestClassifier(criterion='gini',\n",
    "                           max_features= 50,\n",
    "                           max_depth=16,\n",
    "                           min_samples_split=6,\n",
    "                           min_samples_leaf=3, \n",
    "                           random_state=123)\n",
    "forest.fit(X_train, y_train)\n",
    "\n",
    "y_pred = forest.predict(X_test)\n",
    "print(classification_report(y_test, y_pred, target_names= target_names))\n",
    "\n",
    "#Check the AUC for predictions\n",
    "y_score = forest.fit(X_train, y_train).predict_proba(X_test)\n",
    "roc_auc = roc_auc_score(y_test, y_score, multi_class = 'ovo')\n",
    "print(f'\\nAUC is :{auc}')"
   ]
  },
  {
   "cell_type": "code",
   "execution_count": null,
   "metadata": {
    "ExecuteTime": {
     "end_time": "2020-08-21T21:04:04.600305Z",
     "start_time": "2020-08-21T21:03:29.239Z"
    }
   },
   "outputs": [],
   "source": [
    "fn = X_train.columns\n",
    "cn = 'status_group'\n",
    "fig, axes = plt.subplots(nrows = 1,ncols = 1,figsize = (8,4), dpi=800)\n",
    "tree.plot_tree(forest.estimators_[3],\n",
    "               feature_names = fn, \n",
    "               class_names=cn,\n",
    "               filled = True);"
   ]
  },
  {
   "cell_type": "code",
   "execution_count": null,
   "metadata": {
    "ExecuteTime": {
     "end_time": "2020-08-21T21:04:04.604466Z",
     "start_time": "2020-08-21T21:03:29.243Z"
    }
   },
   "outputs": [],
   "source": [
    "plot_feature_importances(forest)"
   ]
  },
  {
   "cell_type": "code",
   "execution_count": null,
   "metadata": {
    "ExecuteTime": {
     "end_time": "2020-08-21T21:04:04.604466Z",
     "start_time": "2020-08-21T21:03:29.246Z"
    }
   },
   "outputs": [],
   "source": [
    "dt = DecisionTreeClassifier(criterion='gini',\n",
    "                           max_features=50,\n",
    "                           max_depth=16,\n",
    "                           min_samples_split=6,\n",
    "                           min_samples_leaf=2, \n",
    "                           random_state=123)\n",
    "dt.fit(X_train, y_train)\n",
    "\n",
    "y_pred = dt.predict(X_test)\n",
    "print(classification_report(y_test, y_pred, target_names= target_names))\n",
    "\n",
    "# Check the AUC for predictions\n",
    "y_score = dt.fit(X_train, y_train).predict_proba(X_test)\n",
    "roc_auc = roc_auc_score(y_test, y_score, multi_class = 'ovo')\n",
    "print(f'\\nAUC is :{auc}')"
   ]
  },
  {
   "cell_type": "markdown",
   "metadata": {
    "ExecuteTime": {
     "end_time": "2020-08-20T05:23:24.613638Z",
     "start_time": "2020-08-20T05:23:24.538989Z"
    }
   },
   "source": [
    "# XGBoost"
   ]
  },
  {
   "cell_type": "code",
   "execution_count": null,
   "metadata": {
    "ExecuteTime": {
     "end_time": "2020-08-21T21:04:04.608610Z",
     "start_time": "2020-08-21T21:03:29.249Z"
    }
   },
   "outputs": [],
   "source": [
    "import xgboost as xgb"
   ]
  },
  {
   "cell_type": "code",
   "execution_count": null,
   "metadata": {
    "ExecuteTime": {
     "end_time": "2020-08-21T21:04:04.612610Z",
     "start_time": "2020-08-21T21:03:29.252Z"
    }
   },
   "outputs": [],
   "source": [
    "clf = xgb.XGBClassifier()\n",
    "clf.fit(X_train_minmax, y_train)\n",
    "\n",
    "y_pred = clf.predict(X_test_minmax)\n",
    "print(classification_report(y_test, y_pred, target_names= target_names))\n",
    "\n",
    "# Check the AUC for predictions\n",
    "y_score = clf.fit(X_train_minmax, y_train).predict_proba(X_test_minmax)\n",
    "roc_auc = roc_auc_score(y_test, y_score, multi_class = 'ovo')\n",
    "print(f'\\nAUC is :{auc}')"
   ]
  },
  {
   "cell_type": "code",
   "execution_count": null,
   "metadata": {
    "ExecuteTime": {
     "end_time": "2020-08-21T21:04:04.612610Z",
     "start_time": "2020-08-21T21:03:29.255Z"
    }
   },
   "outputs": [],
   "source": [
    "param_grid = {\n",
    "    \"learning_rate\": [0.8],\n",
    "    'max_depth': [15, 20, 30, 40],\n",
    "}"
   ]
  },
  {
   "cell_type": "code",
   "execution_count": null,
   "metadata": {
    "ExecuteTime": {
     "end_time": "2020-08-21T21:04:04.616611Z",
     "start_time": "2020-08-21T21:03:29.259Z"
    }
   },
   "outputs": [],
   "source": [
    "grid_clf = GridSearchCV(clf, param_grid, scoring='accuracy', cv=None, n_jobs=1)\n",
    "grid_clf.fit(X_train_minmax, y_train)\n",
    "\n",
    "grid_clf.best_params_"
   ]
  },
  {
   "cell_type": "markdown",
   "metadata": {
    "ExecuteTime": {
     "end_time": "2020-08-20T06:46:57.972304Z",
     "start_time": "2020-08-20T06:45:19.580784Z"
    }
   },
   "source": [
    "# K-Nearest Neighbors"
   ]
  },
  {
   "cell_type": "code",
   "execution_count": null,
   "metadata": {
    "ExecuteTime": {
     "end_time": "2020-08-21T21:04:04.616611Z",
     "start_time": "2020-08-21T21:03:29.263Z"
    }
   },
   "outputs": [],
   "source": [
    "from sklearn.neighbors import KNeighborsClassifier\n",
    "\n",
    "# Instantiate KNeighborsClassifier\n",
    "knn = KNeighborsClassifier()\n",
    "\n",
    "# Fit the classifier\n",
    "knn.fit(X_train_minmax, y_train)\n",
    "\n",
    "# Predict on the test set\n",
    "y_pred = knn.predict(X_test_minmax)"
   ]
  },
  {
   "cell_type": "code",
   "execution_count": null,
   "metadata": {
    "ExecuteTime": {
     "end_time": "2020-08-21T21:04:04.620440Z",
     "start_time": "2020-08-21T21:03:29.266Z"
    }
   },
   "outputs": [],
   "source": [
    "print(classification_report(y_test, y_pred, target_names= target_names))\n",
    "\n",
    "# Check the AUC for predictions\n",
    "y_score = knn.fit(X_train_minmax, y_train).predict_proba(X_test_minmax)\n",
    "roc_auc = roc_auc_score(y_test, y_score, multi_class = 'ovo')\n",
    "print(f'\\nAUC is :{auc}')"
   ]
  },
  {
   "cell_type": "code",
   "execution_count": null,
   "metadata": {
    "ExecuteTime": {
     "end_time": "2020-08-21T21:04:04.624539Z",
     "start_time": "2020-08-21T21:03:29.269Z"
    }
   },
   "outputs": [],
   "source": [
    "def find_best_k(X_train, y_train, X_test, y_test, min_k=1, max_k=25):\n",
    "    best_k = 0\n",
    "    best_score = 0.0\n",
    "    for k in range(min_k, max_k+1, 2):\n",
    "        knn = KNeighborsClassifier(n_neighbors=k)\n",
    "        knn.fit(X_train, y_train)\n",
    "        preds = knn.predict(X_test)\n",
    "        f1 = f1_score(y_test, preds, average = 'micro')\n",
    "        if f1 > best_score:\n",
    "            best_k = k\n",
    "            best_score = f1\n",
    "    \n",
    "    print(\"Best Value for k: {}\".format(best_k))\n",
    "    print(\"F1-Score: {}\".format(best_score))"
   ]
  },
  {
   "cell_type": "code",
   "execution_count": null,
   "metadata": {
    "ExecuteTime": {
     "end_time": "2020-08-21T21:04:04.624539Z",
     "start_time": "2020-08-21T21:03:29.272Z"
    }
   },
   "outputs": [],
   "source": [
    "from sklearn.metrics import f1_score\n",
    "find_best_k(X_train_minmax, y_train, X_test_minmax, y_test)"
   ]
  },
  {
   "cell_type": "code",
   "execution_count": null,
   "metadata": {},
   "outputs": [],
   "source": []
  }
 ],
 "metadata": {
  "kernelspec": {
   "display_name": "Python 3",
   "language": "python",
   "name": "python3"
  },
  "language_info": {
   "codemirror_mode": {
    "name": "ipython",
    "version": 3
   },
   "file_extension": ".py",
   "mimetype": "text/x-python",
   "name": "python",
   "nbconvert_exporter": "python",
   "pygments_lexer": "ipython3",
   "version": "3.6.9"
  },
  "toc": {
   "base_numbering": 1,
   "nav_menu": {},
   "number_sections": true,
   "sideBar": true,
   "skip_h1_title": false,
   "title_cell": "Table of Contents",
   "title_sidebar": "Contents",
   "toc_cell": false,
   "toc_position": {
    "height": "calc(100% - 180px)",
    "left": "10px",
    "top": "150px",
    "width": "300.792px"
   },
   "toc_section_display": true,
   "toc_window_display": true
  },
  "varInspector": {
   "cols": {
    "lenName": 16,
    "lenType": 16,
    "lenVar": 40
   },
   "kernels_config": {
    "python": {
     "delete_cmd_postfix": "",
     "delete_cmd_prefix": "del ",
     "library": "var_list.py",
     "varRefreshCmd": "print(var_dic_list())"
    },
    "r": {
     "delete_cmd_postfix": ") ",
     "delete_cmd_prefix": "rm(",
     "library": "var_list.r",
     "varRefreshCmd": "cat(var_dic_list()) "
    }
   },
   "types_to_exclude": [
    "module",
    "function",
    "builtin_function_or_method",
    "instance",
    "_Feature"
   ],
   "window_display": false
  }
 },
 "nbformat": 4,
 "nbformat_minor": 2
}
